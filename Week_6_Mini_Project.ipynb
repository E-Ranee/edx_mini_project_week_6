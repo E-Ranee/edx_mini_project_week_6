{
 "cells": [
  {
   "cell_type": "markdown",
   "metadata": {},
   "source": [
    "# Week 6 Mini project \n",
    "\n",
    "  - ### World Development Indicators Data Set\n",
    "  \n",
    "  \n",
    "---\n",
    "---"
   ]
  },
  {
   "cell_type": "markdown",
   "metadata": {},
   "source": [
    "### Import modules\n",
    "<li><b>pandas</b> and <b>numpy</b> for data ingestion and manipulation.</li>\n",
    "<li><b>matplotlib</b> for data visualization</li>"
   ]
  },
  {
   "cell_type": "code",
   "execution_count": 1,
   "metadata": {},
   "outputs": [],
   "source": [
    "import pandas as pd\n",
    "import numpy as np\n",
    "import matplotlib.pyplot as plt"
   ]
  },
  {
   "cell_type": "markdown",
   "metadata": {},
   "source": [
    "---\n",
    "# Step 1: Acquire Data\n",
    "- [x] Imported dataset from kaggle (https://www.kaggle.com/worldbank/world-development-indicators)\n",
    "- [x] Retrieve dataset from the csv file"
   ]
  },
  {
   "cell_type": "code",
   "execution_count": 2,
   "metadata": {},
   "outputs": [
    {
     "data": {
      "text/plain": [
       "(5656458, 6)"
      ]
     },
     "execution_count": 2,
     "metadata": {},
     "output_type": "execute_result"
    }
   ],
   "source": [
    "data = pd.read_csv('./Indicators.csv')\n",
    "data.shape"
   ]
  },
  {
   "cell_type": "markdown",
   "metadata": {},
   "source": [
    "There is a lot of data - **5,656,458 rows** and 6 columns\n",
    "\n",
    "- What are the 6 columns called?"
   ]
  },
  {
   "cell_type": "code",
   "execution_count": 3,
   "metadata": {},
   "outputs": [
    {
     "name": "stdout",
     "output_type": "stream",
     "text": [
      "CountryName\n",
      "CountryCode\n",
      "IndicatorName\n",
      "IndicatorCode\n",
      "Year\n",
      "Value\n"
     ]
    }
   ],
   "source": [
    "for column in data.columns:\n",
    "    print(column)"
   ]
  },
  {
   "cell_type": "markdown",
   "metadata": {},
   "source": [
    "- What does the data look like?"
   ]
  },
  {
   "cell_type": "code",
   "execution_count": 4,
   "metadata": {},
   "outputs": [
    {
     "data": {
      "text/html": [
       "<div>\n",
       "<style scoped>\n",
       "    .dataframe tbody tr th:only-of-type {\n",
       "        vertical-align: middle;\n",
       "    }\n",
       "\n",
       "    .dataframe tbody tr th {\n",
       "        vertical-align: top;\n",
       "    }\n",
       "\n",
       "    .dataframe thead th {\n",
       "        text-align: right;\n",
       "    }\n",
       "</style>\n",
       "<table border=\"1\" class=\"dataframe\">\n",
       "  <thead>\n",
       "    <tr style=\"text-align: right;\">\n",
       "      <th></th>\n",
       "      <th>CountryName</th>\n",
       "      <th>CountryCode</th>\n",
       "      <th>IndicatorName</th>\n",
       "      <th>IndicatorCode</th>\n",
       "      <th>Year</th>\n",
       "      <th>Value</th>\n",
       "    </tr>\n",
       "  </thead>\n",
       "  <tbody>\n",
       "    <tr>\n",
       "      <th>0</th>\n",
       "      <td>Arab World</td>\n",
       "      <td>ARB</td>\n",
       "      <td>Adolescent fertility rate (births per 1,000 wo...</td>\n",
       "      <td>SP.ADO.TFRT</td>\n",
       "      <td>1960</td>\n",
       "      <td>1.335609e+02</td>\n",
       "    </tr>\n",
       "    <tr>\n",
       "      <th>1</th>\n",
       "      <td>Arab World</td>\n",
       "      <td>ARB</td>\n",
       "      <td>Age dependency ratio (% of working-age populat...</td>\n",
       "      <td>SP.POP.DPND</td>\n",
       "      <td>1960</td>\n",
       "      <td>8.779760e+01</td>\n",
       "    </tr>\n",
       "    <tr>\n",
       "      <th>2</th>\n",
       "      <td>Arab World</td>\n",
       "      <td>ARB</td>\n",
       "      <td>Age dependency ratio, old (% of working-age po...</td>\n",
       "      <td>SP.POP.DPND.OL</td>\n",
       "      <td>1960</td>\n",
       "      <td>6.634579e+00</td>\n",
       "    </tr>\n",
       "    <tr>\n",
       "      <th>3</th>\n",
       "      <td>Arab World</td>\n",
       "      <td>ARB</td>\n",
       "      <td>Age dependency ratio, young (% of working-age ...</td>\n",
       "      <td>SP.POP.DPND.YG</td>\n",
       "      <td>1960</td>\n",
       "      <td>8.102333e+01</td>\n",
       "    </tr>\n",
       "    <tr>\n",
       "      <th>4</th>\n",
       "      <td>Arab World</td>\n",
       "      <td>ARB</td>\n",
       "      <td>Arms exports (SIPRI trend indicator values)</td>\n",
       "      <td>MS.MIL.XPRT.KD</td>\n",
       "      <td>1960</td>\n",
       "      <td>3.000000e+06</td>\n",
       "    </tr>\n",
       "  </tbody>\n",
       "</table>\n",
       "</div>"
      ],
      "text/plain": [
       "  CountryName CountryCode                                      IndicatorName  \\\n",
       "0  Arab World         ARB  Adolescent fertility rate (births per 1,000 wo...   \n",
       "1  Arab World         ARB  Age dependency ratio (% of working-age populat...   \n",
       "2  Arab World         ARB  Age dependency ratio, old (% of working-age po...   \n",
       "3  Arab World         ARB  Age dependency ratio, young (% of working-age ...   \n",
       "4  Arab World         ARB        Arms exports (SIPRI trend indicator values)   \n",
       "\n",
       "    IndicatorCode  Year         Value  \n",
       "0     SP.ADO.TFRT  1960  1.335609e+02  \n",
       "1     SP.POP.DPND  1960  8.779760e+01  \n",
       "2  SP.POP.DPND.OL  1960  6.634579e+00  \n",
       "3  SP.POP.DPND.YG  1960  8.102333e+01  \n",
       "4  MS.MIL.XPRT.KD  1960  3.000000e+06  "
      ]
     },
     "execution_count": 4,
     "metadata": {},
     "output_type": "execute_result"
    }
   ],
   "source": [
    "data.head()"
   ]
  },
  {
   "cell_type": "markdown",
   "metadata": {},
   "source": [
    "## Step 1-B: Query data\n",
    "\n",
    "Country name and country code are pairs. Indicator name and code are pairs. \"Years\" is easy enough to understand. Values are difficult to understand without context.\n",
    "\n",
    "  - How many countries are there?\n",
    "  - How many indicators are there?\n",
    "  - What years does the data cover?\n",
    "\n",
    "#### Question: How many countries are there?"
   ]
  },
  {
   "cell_type": "code",
   "execution_count": 5,
   "metadata": {},
   "outputs": [
    {
     "name": "stdout",
     "output_type": "stream",
     "text": [
      "\n",
      "There are 247 countries in the data set\n"
     ]
    }
   ],
   "source": [
    "countries = data['CountryName'].unique().tolist()\n",
    "print(f\"\\nThere are {len(countries)} countries in the data set\")"
   ]
  },
  {
   "cell_type": "markdown",
   "metadata": {},
   "source": [
    "#### Question: How many different indicators are there?"
   ]
  },
  {
   "cell_type": "code",
   "execution_count": 6,
   "metadata": {},
   "outputs": [
    {
     "name": "stdout",
     "output_type": "stream",
     "text": [
      "There are 1344 indicators\n"
     ]
    }
   ],
   "source": [
    "indicators = data['IndicatorName'].unique().tolist()\n",
    "print(f\"There are {len(indicators)} indicators\")"
   ]
  },
  {
   "cell_type": "markdown",
   "metadata": {},
   "source": [
    "#### Question: How many years of data are there?"
   ]
  },
  {
   "cell_type": "code",
   "execution_count": 7,
   "metadata": {},
   "outputs": [
    {
     "name": "stdout",
     "output_type": "stream",
     "text": [
      "There are 56 years of data available spanning from 1960 to 2015\n"
     ]
    }
   ],
   "source": [
    "years = data['Year'].unique().tolist()\n",
    "print(f\"There are {len(years)} years of data available spanning from {min(years)} to {max(years)}\")"
   ]
  },
  {
   "cell_type": "markdown",
   "metadata": {},
   "source": [
    "---\n",
    "# Step 2: Prepare Data\n",
    "## Step 2-A: Explore\n",
    "- [x] Do a preliminary analysis\n",
    "- [x] Understand the nature of your data\n",
    "\n",
    "**Goal** = Understand your data\n",
    "\n",
    "- [x] Find correlations (scatter chart)\n",
    "- [x] Find general trends (bar/line chart)\n",
    "- [x] Find outliers *- (Found for life expectancy)*\n",
    "\n",
    "**Describe** your data\n",
    "\n",
    "- [x] Mean\n",
    "- [x] Median\n",
    "- [x] Mode\n",
    "- [x] Range\n",
    "- [x] Standard deviation\n",
    "\n",
    "**Visualise** your data"
   ]
  },
  {
   "cell_type": "markdown",
   "metadata": {},
   "source": [
    "### Preliminary analysis: What are the most common indicators if any?"
   ]
  },
  {
   "cell_type": "code",
   "execution_count": 8,
   "metadata": {},
   "outputs": [
    {
     "name": "stdout",
     "output_type": "stream",
     "text": [
      "Population, total                           13484\n",
      "Population growth (annual %)                13442\n",
      "Urban population (% of total)               13415\n",
      "Rural population (% of total population)    13415\n",
      "Rural population                            13374\n",
      "Urban population                            13374\n",
      "Urban population growth (annual %)          13337\n",
      "Surface area (sq. km)                       13090\n",
      "Land area (sq. km)                          13086\n",
      "Rural population growth (annual %)          13061\n",
      "Name: IndicatorName, dtype: int64\n"
     ]
    }
   ],
   "source": [
    "indicators_series = data['IndicatorName'].value_counts()\n",
    "print(indicators_series.head(10)) # 60 was the number I used when deciding which ones looked interesting"
   ]
  },
  {
   "cell_type": "markdown",
   "metadata": {},
   "source": [
    "### I'm interested in the following indicators\n",
    "\n",
    "- *GDP per capita (current US$)*\n",
    "- *Life expectancy at birth, total (years)*\n",
    "- *Adolescent fertility rate (births per 1,000 women ages 15-19)*\n",
    "- *Birth rate, crude (per 1,000 people)*\n",
    "- *Permanent cropland (% of land area)*\n",
    "- *Land area (sq. km)*\n",
    "- *Population density (people per sq. km of land area)* "
   ]
  },
  {
   "cell_type": "code",
   "execution_count": 9,
   "metadata": {},
   "outputs": [],
   "source": [
    "wanted_indicators = [\n",
    "    \"GDP per capita \\(current US\",\n",
    "    \"Life expectancy at birth, total \\(years\",\n",
    "    \"Adolescent fertility rate \\(births per 1,000 women ages 15-19\",\n",
    "    \"Birth rate, crude \\(per 1,000 people\",\n",
    "    \"Permanent cropland \\(% of land area\",\n",
    "    \"Land area \\(sq. km\",\n",
    "    \"Population density \\(people per sq. km of land area\"\n",
    "]"
   ]
  },
  {
   "cell_type": "markdown",
   "metadata": {},
   "source": [
    "### Use it to make filters to show only the data I want"
   ]
  },
  {
   "cell_type": "code",
   "execution_count": 10,
   "metadata": {},
   "outputs": [],
   "source": [
    "filter1 = data['IndicatorName'].str.contains(wanted_indicators[0]) # GDP\n",
    "filter2 = data['IndicatorName'].str.contains(wanted_indicators[1]) # Life expectancy\n",
    "filter3 = data['IndicatorName'].str.contains(wanted_indicators[2]) # teen birth rate\n",
    "filter4 = data['IndicatorName'].str.contains(wanted_indicators[3]) # birth rate\n",
    "filter5 = data['IndicatorName'].str.contains(wanted_indicators[4]) # cropland\n",
    "filter6 = data['IndicatorName'].str.contains(wanted_indicators[5]) # land\n",
    "filter7 = data['IndicatorName'].str.contains(wanted_indicators[6]) # pop density"
   ]
  },
  {
   "cell_type": "markdown",
   "metadata": {},
   "source": [
    "### Make a dataframe for each factor I want to look at"
   ]
  },
  {
   "cell_type": "code",
   "execution_count": 11,
   "metadata": {},
   "outputs": [],
   "source": [
    "GDP_indicator = wanted_indicators[0] # GDP per capita (current US$)\n",
    "GDP_filter = data['IndicatorName'].str.contains(GDP_indicator)\n",
    "GDP_filtered_df = data[GDP_filter]\n",
    "\n",
    "LE_indicator = wanted_indicators[1] # Life expectancy\n",
    "LE_filter = data['IndicatorName'].str.contains(LE_indicator)\n",
    "LE_filtered_df = data[LE_filter]\n",
    "\n",
    "teen_BR_indicator = wanted_indicators[2] # Adolescent fertility rate (births per 1,000 women ages 15-19)\n",
    "teen_BR_filter = data['IndicatorName'].str.contains(teen_BR_indicator)\n",
    "teen_BR_filtered_df = data[teen_BR_filter]\n",
    "\n",
    "BR_indicator = wanted_indicators[3] # Birth rate\n",
    "BR_filter = data['IndicatorName'].str.contains(BR_indicator)\n",
    "BR_filtered_df = data[BR_filter]\n",
    "\n",
    "crop_indicator = wanted_indicators[4] # Cropland\n",
    "crop_filter = data['IndicatorName'].str.contains(crop_indicator)\n",
    "crop_filtered_df = data[crop_filter]\n",
    "\n",
    "land_indicator = wanted_indicators[5] # land\n",
    "land_filter = data['IndicatorName'].str.contains(land_indicator)\n",
    "land_filtered_df = data[land_filter]\n",
    "\n",
    "pop_dens_indicator = wanted_indicators[6] # population density\n",
    "pop_dens_filter = data['IndicatorName'].str.contains(pop_dens_indicator)\n",
    "pop_dens_filtered_df = data[pop_dens_filter]"
   ]
  },
  {
   "cell_type": "markdown",
   "metadata": {},
   "source": [
    "**NOTE**: Cropland, land and population density data starts at **1961** not 1960. \n",
    "\n",
    "Certain data visualisations will require Null data to be dropped first (box plot)"
   ]
  },
  {
   "cell_type": "markdown",
   "metadata": {},
   "source": [
    "### Simplify each dataframa to include only the country, year and factor\n",
    "I'm not interested in the country code because I already have the country name for my purposes. I'm also getting rid of the indicator code/name because I'll be adding the specific indicators I want.\n",
    "\n",
    "I'll then rename the columns in each mini dataframe to be the same two columns (CountryName and Year) and then the third column will be the specific indicator. This will also make it easier to search for later."
   ]
  },
  {
   "cell_type": "code",
   "execution_count": 12,
   "metadata": {},
   "outputs": [],
   "source": [
    "del GDP_filtered_df[\"CountryCode\"]\n",
    "del GDP_filtered_df[\"IndicatorCode\"]\n",
    "del GDP_filtered_df[\"IndicatorName\"]\n",
    "GDP_filtered_df.columns = ['CountryName', 'Year', \"GDP\"]\n",
    "\n",
    "del LE_filtered_df[\"CountryCode\"]\n",
    "del LE_filtered_df[\"IndicatorCode\"]\n",
    "del LE_filtered_df[\"IndicatorName\"]\n",
    "LE_filtered_df.columns = ['CountryName', 'Year', \"LifeExpectancy\"]\n",
    "\n",
    "del teen_BR_filtered_df[\"CountryCode\"]\n",
    "del teen_BR_filtered_df[\"IndicatorCode\"]\n",
    "del teen_BR_filtered_df[\"IndicatorName\"]\n",
    "teen_BR_filtered_df.columns = ['CountryName', 'Year', \"TeenBirthRate\"]\n",
    "\n",
    "del BR_filtered_df[\"CountryCode\"]\n",
    "del BR_filtered_df[\"IndicatorCode\"]\n",
    "del BR_filtered_df[\"IndicatorName\"]\n",
    "BR_filtered_df.columns = ['CountryName', 'Year', \"BirthRate\"]\n",
    "\n",
    "del crop_filtered_df[\"CountryCode\"]\n",
    "del crop_filtered_df[\"IndicatorCode\"]\n",
    "del crop_filtered_df[\"IndicatorName\"]\n",
    "crop_filtered_df.columns = ['CountryName', 'Year', \"Cropland%\"]\n",
    "\n",
    "del land_filtered_df[\"CountryCode\"]\n",
    "del land_filtered_df[\"IndicatorCode\"]\n",
    "del land_filtered_df[\"IndicatorName\"]\n",
    "land_filtered_df.columns = ['CountryName', 'Year', \"LandArea\"]\n",
    "\n",
    "del pop_dens_filtered_df[\"CountryCode\"]\n",
    "del pop_dens_filtered_df[\"IndicatorCode\"]\n",
    "del pop_dens_filtered_df[\"IndicatorName\"]\n",
    "pop_dens_filtered_df.columns = ['CountryName', 'Year', \"PopulationDensity\"]"
   ]
  },
  {
   "cell_type": "markdown",
   "metadata": {},
   "source": [
    "An example of one of my mini dataframes. You can see that there's the three columns I want."
   ]
  },
  {
   "cell_type": "code",
   "execution_count": 13,
   "metadata": {},
   "outputs": [
    {
     "data": {
      "text/html": [
       "<div>\n",
       "<style scoped>\n",
       "    .dataframe tbody tr th:only-of-type {\n",
       "        vertical-align: middle;\n",
       "    }\n",
       "\n",
       "    .dataframe tbody tr th {\n",
       "        vertical-align: top;\n",
       "    }\n",
       "\n",
       "    .dataframe thead th {\n",
       "        text-align: right;\n",
       "    }\n",
       "</style>\n",
       "<table border=\"1\" class=\"dataframe\">\n",
       "  <thead>\n",
       "    <tr style=\"text-align: right;\">\n",
       "      <th></th>\n",
       "      <th>CountryName</th>\n",
       "      <th>Year</th>\n",
       "      <th>GDP</th>\n",
       "    </tr>\n",
       "  </thead>\n",
       "  <tbody>\n",
       "    <tr>\n",
       "      <th>95</th>\n",
       "      <td>Caribbean small states</td>\n",
       "      <td>1960</td>\n",
       "      <td>457.464712</td>\n",
       "    </tr>\n",
       "    <tr>\n",
       "      <th>264</th>\n",
       "      <td>East Asia &amp; Pacific (all income levels)</td>\n",
       "      <td>1960</td>\n",
       "      <td>146.814138</td>\n",
       "    </tr>\n",
       "    <tr>\n",
       "      <th>377</th>\n",
       "      <td>East Asia &amp; Pacific (developing only)</td>\n",
       "      <td>1960</td>\n",
       "      <td>89.319639</td>\n",
       "    </tr>\n",
       "  </tbody>\n",
       "</table>\n",
       "</div>"
      ],
      "text/plain": [
       "                                 CountryName  Year         GDP\n",
       "95                    Caribbean small states  1960  457.464712\n",
       "264  East Asia & Pacific (all income levels)  1960  146.814138\n",
       "377    East Asia & Pacific (developing only)  1960   89.319639"
      ]
     },
     "execution_count": 13,
     "metadata": {},
     "output_type": "execute_result"
    }
   ],
   "source": [
    "GDP_filtered_df.head(3)"
   ]
  },
  {
   "cell_type": "markdown",
   "metadata": {},
   "source": [
    "### Concatonate all mini dataframes into one big one\n",
    "\n",
    "It adds indicator columns according to the year and the country name. That means I'll have 9 columns in total. It's also a lot shorter than my original dataframe because it only has one row per country/year combination, as opposed to country/year/indicator combination. This will greatly reduce the processing times!"
   ]
  },
  {
   "cell_type": "code",
   "execution_count": 14,
   "metadata": {},
   "outputs": [
    {
     "data": {
      "text/html": [
       "<div>\n",
       "<style scoped>\n",
       "    .dataframe tbody tr th:only-of-type {\n",
       "        vertical-align: middle;\n",
       "    }\n",
       "\n",
       "    .dataframe tbody tr th {\n",
       "        vertical-align: top;\n",
       "    }\n",
       "\n",
       "    .dataframe thead th {\n",
       "        text-align: right;\n",
       "    }\n",
       "</style>\n",
       "<table border=\"1\" class=\"dataframe\">\n",
       "  <thead>\n",
       "    <tr style=\"text-align: right;\">\n",
       "      <th></th>\n",
       "      <th>CountryName</th>\n",
       "      <th>Year</th>\n",
       "      <th>GDP</th>\n",
       "      <th>LifeExpectancy</th>\n",
       "      <th>TeenBirthRate</th>\n",
       "      <th>BirthRate</th>\n",
       "      <th>Cropland%</th>\n",
       "      <th>LandArea</th>\n",
       "      <th>PopulationDensity</th>\n",
       "    </tr>\n",
       "  </thead>\n",
       "  <tbody>\n",
       "    <tr>\n",
       "      <th>0</th>\n",
       "      <td>Caribbean small states</td>\n",
       "      <td>1960</td>\n",
       "      <td>457.464712</td>\n",
       "      <td>62.271795</td>\n",
       "      <td>162.871212</td>\n",
       "      <td>40.017001</td>\n",
       "      <td>NaN</td>\n",
       "      <td>NaN</td>\n",
       "      <td>NaN</td>\n",
       "    </tr>\n",
       "    <tr>\n",
       "      <th>1</th>\n",
       "      <td>East Asia &amp; Pacific (all income levels)</td>\n",
       "      <td>1960</td>\n",
       "      <td>146.814138</td>\n",
       "      <td>48.298317</td>\n",
       "      <td>66.015974</td>\n",
       "      <td>26.362350</td>\n",
       "      <td>NaN</td>\n",
       "      <td>NaN</td>\n",
       "      <td>NaN</td>\n",
       "    </tr>\n",
       "    <tr>\n",
       "      <th>2</th>\n",
       "      <td>East Asia &amp; Pacific (developing only)</td>\n",
       "      <td>1960</td>\n",
       "      <td>89.319639</td>\n",
       "      <td>45.549658</td>\n",
       "      <td>75.043631</td>\n",
       "      <td>26.635950</td>\n",
       "      <td>NaN</td>\n",
       "      <td>NaN</td>\n",
       "      <td>NaN</td>\n",
       "    </tr>\n",
       "    <tr>\n",
       "      <th>3</th>\n",
       "      <td>Euro area</td>\n",
       "      <td>1960</td>\n",
       "      <td>924.571393</td>\n",
       "      <td>69.273711</td>\n",
       "      <td>27.301838</td>\n",
       "      <td>18.838713</td>\n",
       "      <td>NaN</td>\n",
       "      <td>NaN</td>\n",
       "      <td>NaN</td>\n",
       "    </tr>\n",
       "    <tr>\n",
       "      <th>4</th>\n",
       "      <td>Europe &amp; Central Asia (all income levels)</td>\n",
       "      <td>1960</td>\n",
       "      <td>648.223441</td>\n",
       "      <td>67.030027</td>\n",
       "      <td>42.030052</td>\n",
       "      <td>22.141599</td>\n",
       "      <td>NaN</td>\n",
       "      <td>NaN</td>\n",
       "      <td>NaN</td>\n",
       "    </tr>\n",
       "    <tr>\n",
       "      <th>...</th>\n",
       "      <td>...</td>\n",
       "      <td>...</td>\n",
       "      <td>...</td>\n",
       "      <td>...</td>\n",
       "      <td>...</td>\n",
       "      <td>...</td>\n",
       "      <td>...</td>\n",
       "      <td>...</td>\n",
       "      <td>...</td>\n",
       "    </tr>\n",
       "    <tr>\n",
       "      <th>10338</th>\n",
       "      <td>Vanuatu</td>\n",
       "      <td>2014</td>\n",
       "      <td>3147.963779</td>\n",
       "      <td>NaN</td>\n",
       "      <td>43.434200</td>\n",
       "      <td>NaN</td>\n",
       "      <td>NaN</td>\n",
       "      <td>12190.0</td>\n",
       "      <td>21.237326</td>\n",
       "    </tr>\n",
       "    <tr>\n",
       "      <th>10339</th>\n",
       "      <td>Vietnam</td>\n",
       "      <td>2014</td>\n",
       "      <td>2052.294202</td>\n",
       "      <td>NaN</td>\n",
       "      <td>38.119400</td>\n",
       "      <td>NaN</td>\n",
       "      <td>NaN</td>\n",
       "      <td>310070.0</td>\n",
       "      <td>292.611346</td>\n",
       "    </tr>\n",
       "    <tr>\n",
       "      <th>10340</th>\n",
       "      <td>West Bank and Gaza</td>\n",
       "      <td>2014</td>\n",
       "      <td>2965.903675</td>\n",
       "      <td>NaN</td>\n",
       "      <td>59.142200</td>\n",
       "      <td>NaN</td>\n",
       "      <td>NaN</td>\n",
       "      <td>6020.0</td>\n",
       "      <td>713.402326</td>\n",
       "    </tr>\n",
       "    <tr>\n",
       "      <th>10341</th>\n",
       "      <td>Zambia</td>\n",
       "      <td>2014</td>\n",
       "      <td>1721.623274</td>\n",
       "      <td>NaN</td>\n",
       "      <td>93.015600</td>\n",
       "      <td>NaN</td>\n",
       "      <td>NaN</td>\n",
       "      <td>743390.0</td>\n",
       "      <td>21.148177</td>\n",
       "    </tr>\n",
       "    <tr>\n",
       "      <th>10342</th>\n",
       "      <td>Zimbabwe</td>\n",
       "      <td>2014</td>\n",
       "      <td>931.198187</td>\n",
       "      <td>NaN</td>\n",
       "      <td>110.401800</td>\n",
       "      <td>NaN</td>\n",
       "      <td>NaN</td>\n",
       "      <td>386850.0</td>\n",
       "      <td>39.410249</td>\n",
       "    </tr>\n",
       "  </tbody>\n",
       "</table>\n",
       "<p>10343 rows × 9 columns</p>\n",
       "</div>"
      ],
      "text/plain": [
       "                                     CountryName  Year          GDP  \\\n",
       "0                         Caribbean small states  1960   457.464712   \n",
       "1        East Asia & Pacific (all income levels)  1960   146.814138   \n",
       "2          East Asia & Pacific (developing only)  1960    89.319639   \n",
       "3                                      Euro area  1960   924.571393   \n",
       "4      Europe & Central Asia (all income levels)  1960   648.223441   \n",
       "...                                          ...   ...          ...   \n",
       "10338                                    Vanuatu  2014  3147.963779   \n",
       "10339                                    Vietnam  2014  2052.294202   \n",
       "10340                         West Bank and Gaza  2014  2965.903675   \n",
       "10341                                     Zambia  2014  1721.623274   \n",
       "10342                                   Zimbabwe  2014   931.198187   \n",
       "\n",
       "       LifeExpectancy  TeenBirthRate  BirthRate  Cropland%  LandArea  \\\n",
       "0           62.271795     162.871212  40.017001        NaN       NaN   \n",
       "1           48.298317      66.015974  26.362350        NaN       NaN   \n",
       "2           45.549658      75.043631  26.635950        NaN       NaN   \n",
       "3           69.273711      27.301838  18.838713        NaN       NaN   \n",
       "4           67.030027      42.030052  22.141599        NaN       NaN   \n",
       "...               ...            ...        ...        ...       ...   \n",
       "10338             NaN      43.434200        NaN        NaN   12190.0   \n",
       "10339             NaN      38.119400        NaN        NaN  310070.0   \n",
       "10340             NaN      59.142200        NaN        NaN    6020.0   \n",
       "10341             NaN      93.015600        NaN        NaN  743390.0   \n",
       "10342             NaN     110.401800        NaN        NaN  386850.0   \n",
       "\n",
       "       PopulationDensity  \n",
       "0                    NaN  \n",
       "1                    NaN  \n",
       "2                    NaN  \n",
       "3                    NaN  \n",
       "4                    NaN  \n",
       "...                  ...  \n",
       "10338          21.237326  \n",
       "10339         292.611346  \n",
       "10340         713.402326  \n",
       "10341          21.148177  \n",
       "10342          39.410249  \n",
       "\n",
       "[10343 rows x 9 columns]"
      ]
     },
     "execution_count": 14,
     "metadata": {},
     "output_type": "execute_result"
    }
   ],
   "source": [
    "selected_data_df = GDP_filtered_df\n",
    "selected_data_df = selected_data_df.merge(LE_filtered_df, on=[\"CountryName\", \"Year\"], how=\"left\", left_index=True)\n",
    "selected_data_df = selected_data_df.merge(teen_BR_filtered_df, on=[\"CountryName\", \"Year\"], how=\"left\", left_index=True)\n",
    "selected_data_df = selected_data_df.merge(BR_filtered_df, on=[\"CountryName\", \"Year\"], how=\"left\", left_index=True)\n",
    "selected_data_df = selected_data_df.merge(crop_filtered_df, on=[\"CountryName\", \"Year\"], how=\"left\", left_index=True)\n",
    "selected_data_df = selected_data_df.merge(land_filtered_df, on=[\"CountryName\", \"Year\"], how=\"left\", left_index=True)\n",
    "selected_data_df = selected_data_df.merge(pop_dens_filtered_df, on=[\"CountryName\", \"Year\"], how=\"left\", left_index=True)\n",
    "selected_data_df.reset_index(inplace=True)\n",
    "del selected_data_df[\"index\"]\n",
    "selected_data_df"
   ]
  },
  {
   "cell_type": "markdown",
   "metadata": {},
   "source": [
    "It only has 10343 rows - way fewer than the 5.5 million we had earlier!!"
   ]
  },
  {
   "cell_type": "markdown",
   "metadata": {},
   "source": [
    "**Describe** your data\n",
    "\n",
    "- [x] Mean\n",
    "- [x] Median\n",
    "- [x] Mode\n",
    "- [x] Range\n",
    "- [x] Standard deviation"
   ]
  },
  {
   "cell_type": "code",
   "execution_count": 15,
   "metadata": {},
   "outputs": [
    {
     "data": {
      "text/html": [
       "<div>\n",
       "<style scoped>\n",
       "    .dataframe tbody tr th:only-of-type {\n",
       "        vertical-align: middle;\n",
       "    }\n",
       "\n",
       "    .dataframe tbody tr th {\n",
       "        vertical-align: top;\n",
       "    }\n",
       "\n",
       "    .dataframe thead th {\n",
       "        text-align: right;\n",
       "    }\n",
       "</style>\n",
       "<table border=\"1\" class=\"dataframe\">\n",
       "  <thead>\n",
       "    <tr style=\"text-align: right;\">\n",
       "      <th></th>\n",
       "      <th>Year</th>\n",
       "      <th>GDP</th>\n",
       "      <th>LifeExpectancy</th>\n",
       "      <th>TeenBirthRate</th>\n",
       "      <th>BirthRate</th>\n",
       "      <th>Cropland%</th>\n",
       "      <th>LandArea</th>\n",
       "      <th>PopulationDensity</th>\n",
       "    </tr>\n",
       "  </thead>\n",
       "  <tbody>\n",
       "    <tr>\n",
       "      <th>count</th>\n",
       "      <td>10343.000000</td>\n",
       "      <td>10343.000000</td>\n",
       "      <td>9759.000000</td>\n",
       "      <td>9887.000000</td>\n",
       "      <td>9898.000000</td>\n",
       "      <td>9341.000000</td>\n",
       "      <td>1.011800e+04</td>\n",
       "      <td>10118.000000</td>\n",
       "    </tr>\n",
       "    <tr>\n",
       "      <th>mean</th>\n",
       "      <td>1990.078120</td>\n",
       "      <td>6835.186145</td>\n",
       "      <td>64.068598</td>\n",
       "      <td>77.457258</td>\n",
       "      <td>28.673934</td>\n",
       "      <td>3.558564</td>\n",
       "      <td>4.471696e+06</td>\n",
       "      <td>276.950579</td>\n",
       "    </tr>\n",
       "    <tr>\n",
       "      <th>std</th>\n",
       "      <td>15.306369</td>\n",
       "      <td>13637.305804</td>\n",
       "      <td>11.019995</td>\n",
       "      <td>53.710495</td>\n",
       "      <td>12.828648</td>\n",
       "      <td>6.667354</td>\n",
       "      <td>1.380100e+07</td>\n",
       "      <td>1492.697235</td>\n",
       "    </tr>\n",
       "    <tr>\n",
       "      <th>min</th>\n",
       "      <td>1960.000000</td>\n",
       "      <td>35.367727</td>\n",
       "      <td>27.078902</td>\n",
       "      <td>1.658400</td>\n",
       "      <td>6.900000</td>\n",
       "      <td>0.000644</td>\n",
       "      <td>2.000000e+00</td>\n",
       "      <td>0.135792</td>\n",
       "    </tr>\n",
       "    <tr>\n",
       "      <th>25%</th>\n",
       "      <td>1978.000000</td>\n",
       "      <td>460.052926</td>\n",
       "      <td>56.128610</td>\n",
       "      <td>31.347870</td>\n",
       "      <td>16.983830</td>\n",
       "      <td>0.330826</td>\n",
       "      <td>2.812000e+04</td>\n",
       "      <td>17.815694</td>\n",
       "    </tr>\n",
       "    <tr>\n",
       "      <th>50%</th>\n",
       "      <td>1992.000000</td>\n",
       "      <td>1595.831082</td>\n",
       "      <td>67.023073</td>\n",
       "      <td>67.785600</td>\n",
       "      <td>27.982500</td>\n",
       "      <td>1.007109</td>\n",
       "      <td>2.457200e+05</td>\n",
       "      <td>46.289187</td>\n",
       "    </tr>\n",
       "    <tr>\n",
       "      <th>75%</th>\n",
       "      <td>2003.000000</td>\n",
       "      <td>6197.504088</td>\n",
       "      <td>72.641220</td>\n",
       "      <td>114.533651</td>\n",
       "      <td>40.108500</td>\n",
       "      <td>3.841131</td>\n",
       "      <td>1.220190e+06</td>\n",
       "      <td>120.451167</td>\n",
       "    </tr>\n",
       "    <tr>\n",
       "      <th>max</th>\n",
       "      <td>2014.000000</td>\n",
       "      <td>193648.132213</td>\n",
       "      <td>83.831707</td>\n",
       "      <td>231.186000</td>\n",
       "      <td>57.637000</td>\n",
       "      <td>66.666667</td>\n",
       "      <td>1.298221e+08</td>\n",
       "      <td>21595.350000</td>\n",
       "    </tr>\n",
       "  </tbody>\n",
       "</table>\n",
       "</div>"
      ],
      "text/plain": [
       "               Year            GDP  LifeExpectancy  TeenBirthRate  \\\n",
       "count  10343.000000   10343.000000     9759.000000    9887.000000   \n",
       "mean    1990.078120    6835.186145       64.068598      77.457258   \n",
       "std       15.306369   13637.305804       11.019995      53.710495   \n",
       "min     1960.000000      35.367727       27.078902       1.658400   \n",
       "25%     1978.000000     460.052926       56.128610      31.347870   \n",
       "50%     1992.000000    1595.831082       67.023073      67.785600   \n",
       "75%     2003.000000    6197.504088       72.641220     114.533651   \n",
       "max     2014.000000  193648.132213       83.831707     231.186000   \n",
       "\n",
       "         BirthRate    Cropland%      LandArea  PopulationDensity  \n",
       "count  9898.000000  9341.000000  1.011800e+04       10118.000000  \n",
       "mean     28.673934     3.558564  4.471696e+06         276.950579  \n",
       "std      12.828648     6.667354  1.380100e+07        1492.697235  \n",
       "min       6.900000     0.000644  2.000000e+00           0.135792  \n",
       "25%      16.983830     0.330826  2.812000e+04          17.815694  \n",
       "50%      27.982500     1.007109  2.457200e+05          46.289187  \n",
       "75%      40.108500     3.841131  1.220190e+06         120.451167  \n",
       "max      57.637000    66.666667  1.298221e+08       21595.350000  "
      ]
     },
     "execution_count": 15,
     "metadata": {},
     "output_type": "execute_result"
    }
   ],
   "source": [
    "selected_data_df.describe()"
   ]
  },
  {
   "cell_type": "markdown",
   "metadata": {},
   "source": [
    "In all honesty I don't really know how to interpret this. One thing I noticed is that the mean Teen Birth Rate is significantly higher than the mean Birth Rate. I thought that this could be due to measurement differences (not bothering measuring it if they don't care about it) except that the counts for both are very similar (only 11 missing data points). Very interesting.\n",
    "\n",
    "It could be interesting to look into the outliers. Which country is 2/3 cropland? Where is the highest life expectancy? Which country has the highest GDP?"
   ]
  },
  {
   "cell_type": "code",
   "execution_count": 16,
   "metadata": {},
   "outputs": [
    {
     "data": {
      "text/html": [
       "<div>\n",
       "<style scoped>\n",
       "    .dataframe tbody tr th:only-of-type {\n",
       "        vertical-align: middle;\n",
       "    }\n",
       "\n",
       "    .dataframe tbody tr th {\n",
       "        vertical-align: top;\n",
       "    }\n",
       "\n",
       "    .dataframe thead th {\n",
       "        text-align: right;\n",
       "    }\n",
       "</style>\n",
       "<table border=\"1\" class=\"dataframe\">\n",
       "  <thead>\n",
       "    <tr style=\"text-align: right;\">\n",
       "      <th></th>\n",
       "      <th>Year</th>\n",
       "      <th>GDP</th>\n",
       "      <th>LifeExpectancy</th>\n",
       "      <th>TeenBirthRate</th>\n",
       "      <th>BirthRate</th>\n",
       "      <th>Cropland%</th>\n",
       "      <th>LandArea</th>\n",
       "      <th>PopulationDensity</th>\n",
       "    </tr>\n",
       "  </thead>\n",
       "  <tbody>\n",
       "    <tr>\n",
       "      <th>Year</th>\n",
       "      <td>1.000000</td>\n",
       "      <td>0.325817</td>\n",
       "      <td>0.420501</td>\n",
       "      <td>-0.368044</td>\n",
       "      <td>-0.418084</td>\n",
       "      <td>0.088459</td>\n",
       "      <td>-0.043036</td>\n",
       "      <td>0.043859</td>\n",
       "    </tr>\n",
       "    <tr>\n",
       "      <th>GDP</th>\n",
       "      <td>0.325817</td>\n",
       "      <td>1.000000</td>\n",
       "      <td>0.524861</td>\n",
       "      <td>-0.459438</td>\n",
       "      <td>-0.509476</td>\n",
       "      <td>-0.110780</td>\n",
       "      <td>-0.026678</td>\n",
       "      <td>0.331829</td>\n",
       "    </tr>\n",
       "    <tr>\n",
       "      <th>LifeExpectancy</th>\n",
       "      <td>0.420501</td>\n",
       "      <td>0.524861</td>\n",
       "      <td>1.000000</td>\n",
       "      <td>-0.800267</td>\n",
       "      <td>-0.884009</td>\n",
       "      <td>0.078543</td>\n",
       "      <td>0.010561</td>\n",
       "      <td>0.148371</td>\n",
       "    </tr>\n",
       "    <tr>\n",
       "      <th>TeenBirthRate</th>\n",
       "      <td>-0.368044</td>\n",
       "      <td>-0.459438</td>\n",
       "      <td>-0.800267</td>\n",
       "      <td>1.000000</td>\n",
       "      <td>0.849747</td>\n",
       "      <td>-0.116922</td>\n",
       "      <td>-0.065969</td>\n",
       "      <td>-0.158239</td>\n",
       "    </tr>\n",
       "    <tr>\n",
       "      <th>BirthRate</th>\n",
       "      <td>-0.418084</td>\n",
       "      <td>-0.509476</td>\n",
       "      <td>-0.884009</td>\n",
       "      <td>0.849747</td>\n",
       "      <td>1.000000</td>\n",
       "      <td>-0.017482</td>\n",
       "      <td>-0.057000</td>\n",
       "      <td>-0.145785</td>\n",
       "    </tr>\n",
       "    <tr>\n",
       "      <th>Cropland%</th>\n",
       "      <td>0.088459</td>\n",
       "      <td>-0.110780</td>\n",
       "      <td>0.078543</td>\n",
       "      <td>-0.116922</td>\n",
       "      <td>-0.017482</td>\n",
       "      <td>1.000000</td>\n",
       "      <td>-0.124269</td>\n",
       "      <td>0.061981</td>\n",
       "    </tr>\n",
       "    <tr>\n",
       "      <th>LandArea</th>\n",
       "      <td>-0.043036</td>\n",
       "      <td>-0.026678</td>\n",
       "      <td>0.010561</td>\n",
       "      <td>-0.065969</td>\n",
       "      <td>-0.057000</td>\n",
       "      <td>-0.124269</td>\n",
       "      <td>1.000000</td>\n",
       "      <td>-0.051256</td>\n",
       "    </tr>\n",
       "    <tr>\n",
       "      <th>PopulationDensity</th>\n",
       "      <td>0.043859</td>\n",
       "      <td>0.331829</td>\n",
       "      <td>0.148371</td>\n",
       "      <td>-0.158239</td>\n",
       "      <td>-0.145785</td>\n",
       "      <td>0.061981</td>\n",
       "      <td>-0.051256</td>\n",
       "      <td>1.000000</td>\n",
       "    </tr>\n",
       "  </tbody>\n",
       "</table>\n",
       "</div>"
      ],
      "text/plain": [
       "                       Year       GDP  LifeExpectancy  TeenBirthRate  \\\n",
       "Year               1.000000  0.325817        0.420501      -0.368044   \n",
       "GDP                0.325817  1.000000        0.524861      -0.459438   \n",
       "LifeExpectancy     0.420501  0.524861        1.000000      -0.800267   \n",
       "TeenBirthRate     -0.368044 -0.459438       -0.800267       1.000000   \n",
       "BirthRate         -0.418084 -0.509476       -0.884009       0.849747   \n",
       "Cropland%          0.088459 -0.110780        0.078543      -0.116922   \n",
       "LandArea          -0.043036 -0.026678        0.010561      -0.065969   \n",
       "PopulationDensity  0.043859  0.331829        0.148371      -0.158239   \n",
       "\n",
       "                   BirthRate  Cropland%  LandArea  PopulationDensity  \n",
       "Year               -0.418084   0.088459 -0.043036           0.043859  \n",
       "GDP                -0.509476  -0.110780 -0.026678           0.331829  \n",
       "LifeExpectancy     -0.884009   0.078543  0.010561           0.148371  \n",
       "TeenBirthRate       0.849747  -0.116922 -0.065969          -0.158239  \n",
       "BirthRate           1.000000  -0.017482 -0.057000          -0.145785  \n",
       "Cropland%          -0.017482   1.000000 -0.124269           0.061981  \n",
       "LandArea           -0.057000  -0.124269  1.000000          -0.051256  \n",
       "PopulationDensity  -0.145785   0.061981 -0.051256           1.000000  "
      ]
     },
     "execution_count": 16,
     "metadata": {},
     "output_type": "execute_result"
    }
   ],
   "source": [
    "corr = selected_data_df.corr()\n",
    "corr"
   ]
  },
  {
   "cell_type": "markdown",
   "metadata": {},
   "source": [
    "This is a huge mess of numbers and decimal points which was confusing to look at so I made a function to help me scan the table to identify interesting correlations"
   ]
  },
  {
   "cell_type": "code",
   "execution_count": 17,
   "metadata": {},
   "outputs": [],
   "source": [
    "def correlation_description(corr_coeff):\n",
    "    if abs(corr_coeff) < 0.1:\n",
    "        return \"No correlation\\t\"\n",
    "    elif abs(corr_coeff) < 0.3:\n",
    "        return \"Weak correlation\"\n",
    "    elif abs(corr_coeff) < 0.5:\n",
    "        return \"Moderate correlation\"\n",
    "    elif abs(corr_coeff) < 1:\n",
    "        return \"Strong correlation\"\n",
    "    else:\n",
    "        return \"Error: coefficient = 1\"\n",
    "\n",
    "def find_correlations(df, corr_coeff=0.5, highlight_level=\"N/A\"):\n",
    "    \"\"\"Takes a data frame and print the combinations of factors with a correlation coefficient a strength or higher\"\"\"\n",
    "    for key, value in df.iteritems(): \n",
    "        for item in value:\n",
    "            if abs(item) >= corr_coeff and abs(item) != 1:\n",
    "                corr_str = round(item,2)\n",
    "                corr_level = correlation_description(corr_str)\n",
    "                if highlight_level.lower() in corr_level.lower():\n",
    "                    highlight = \"!!!\"\n",
    "                else:\n",
    "                    highlight = \"  \"\n",
    "                factor1 = key\n",
    "                factor2 = value.index[pd.Index(value).get_loc(item)]\n",
    "                print(f\"{corr_level}:\\t{corr_str} \\t{highlight}\\t{factor1}  and  {factor2}\")\n",
    "        print() "
   ]
  },
  {
   "cell_type": "markdown",
   "metadata": {},
   "source": [
    "First, I want to look at all the data and assign a correlation strength to it but I want to focus on which factors have no correlations so that I can potentially disregard them"
   ]
  },
  {
   "cell_type": "code",
   "execution_count": 18,
   "metadata": {},
   "outputs": [
    {
     "name": "stdout",
     "output_type": "stream",
     "text": [
      "Moderate correlation:\t0.33 \t  \tYear  and  GDP\n",
      "Moderate correlation:\t0.42 \t  \tYear  and  LifeExpectancy\n",
      "Moderate correlation:\t-0.37 \t  \tYear  and  TeenBirthRate\n",
      "Moderate correlation:\t-0.42 \t  \tYear  and  BirthRate\n",
      "No correlation\t:\t0.09 \t!!!\tYear  and  Cropland%\n",
      "No correlation\t:\t-0.04 \t!!!\tYear  and  LandArea\n",
      "No correlation\t:\t0.04 \t!!!\tYear  and  PopulationDensity\n",
      "\n",
      "Moderate correlation:\t0.33 \t  \tGDP  and  Year\n",
      "Strong correlation:\t0.52 \t  \tGDP  and  LifeExpectancy\n",
      "Moderate correlation:\t-0.46 \t  \tGDP  and  TeenBirthRate\n",
      "Strong correlation:\t-0.51 \t  \tGDP  and  BirthRate\n",
      "Weak correlation:\t-0.11 \t  \tGDP  and  Cropland%\n",
      "No correlation\t:\t-0.03 \t!!!\tGDP  and  LandArea\n",
      "Moderate correlation:\t0.33 \t  \tGDP  and  PopulationDensity\n",
      "\n",
      "Moderate correlation:\t0.42 \t  \tLifeExpectancy  and  Year\n",
      "Strong correlation:\t0.52 \t  \tLifeExpectancy  and  GDP\n",
      "Strong correlation:\t-0.8 \t  \tLifeExpectancy  and  TeenBirthRate\n",
      "Strong correlation:\t-0.88 \t  \tLifeExpectancy  and  BirthRate\n",
      "No correlation\t:\t0.08 \t!!!\tLifeExpectancy  and  Cropland%\n",
      "No correlation\t:\t0.01 \t!!!\tLifeExpectancy  and  LandArea\n",
      "Weak correlation:\t0.15 \t  \tLifeExpectancy  and  PopulationDensity\n",
      "\n",
      "Moderate correlation:\t-0.37 \t  \tTeenBirthRate  and  Year\n",
      "Moderate correlation:\t-0.46 \t  \tTeenBirthRate  and  GDP\n",
      "Strong correlation:\t-0.8 \t  \tTeenBirthRate  and  LifeExpectancy\n",
      "Strong correlation:\t0.85 \t  \tTeenBirthRate  and  BirthRate\n",
      "Weak correlation:\t-0.12 \t  \tTeenBirthRate  and  Cropland%\n",
      "No correlation\t:\t-0.07 \t!!!\tTeenBirthRate  and  LandArea\n",
      "Weak correlation:\t-0.16 \t  \tTeenBirthRate  and  PopulationDensity\n",
      "\n",
      "Moderate correlation:\t-0.42 \t  \tBirthRate  and  Year\n",
      "Strong correlation:\t-0.51 \t  \tBirthRate  and  GDP\n",
      "Strong correlation:\t-0.88 \t  \tBirthRate  and  LifeExpectancy\n",
      "Strong correlation:\t0.85 \t  \tBirthRate  and  TeenBirthRate\n",
      "No correlation\t:\t-0.02 \t!!!\tBirthRate  and  Cropland%\n",
      "No correlation\t:\t-0.06 \t!!!\tBirthRate  and  LandArea\n",
      "Weak correlation:\t-0.15 \t  \tBirthRate  and  PopulationDensity\n",
      "\n",
      "No correlation\t:\t0.09 \t!!!\tCropland%  and  Year\n",
      "Weak correlation:\t-0.11 \t  \tCropland%  and  GDP\n",
      "No correlation\t:\t0.08 \t!!!\tCropland%  and  LifeExpectancy\n",
      "Weak correlation:\t-0.12 \t  \tCropland%  and  TeenBirthRate\n",
      "No correlation\t:\t-0.02 \t!!!\tCropland%  and  BirthRate\n",
      "Weak correlation:\t-0.12 \t  \tCropland%  and  LandArea\n",
      "No correlation\t:\t0.06 \t!!!\tCropland%  and  PopulationDensity\n",
      "\n",
      "No correlation\t:\t-0.04 \t!!!\tLandArea  and  Year\n",
      "No correlation\t:\t-0.03 \t!!!\tLandArea  and  GDP\n",
      "No correlation\t:\t0.01 \t!!!\tLandArea  and  LifeExpectancy\n",
      "No correlation\t:\t-0.07 \t!!!\tLandArea  and  TeenBirthRate\n",
      "No correlation\t:\t-0.06 \t!!!\tLandArea  and  BirthRate\n",
      "Weak correlation:\t-0.12 \t  \tLandArea  and  Cropland%\n",
      "No correlation\t:\t-0.05 \t!!!\tLandArea  and  PopulationDensity\n",
      "\n",
      "No correlation\t:\t0.04 \t!!!\tPopulationDensity  and  Year\n",
      "Moderate correlation:\t0.33 \t  \tPopulationDensity  and  GDP\n",
      "Weak correlation:\t0.15 \t  \tPopulationDensity  and  LifeExpectancy\n",
      "Weak correlation:\t-0.16 \t  \tPopulationDensity  and  TeenBirthRate\n",
      "Weak correlation:\t-0.15 \t  \tPopulationDensity  and  BirthRate\n",
      "No correlation\t:\t0.06 \t!!!\tPopulationDensity  and  Cropland%\n",
      "No correlation\t:\t-0.05 \t!!!\tPopulationDensity  and  LandArea\n",
      "\n"
     ]
    }
   ],
   "source": [
    "find_correlations(corr, 0.01, highlight_level=\"no\") \n",
    "# aka show all combinations and highlight the no correlation ones"
   ]
  },
  {
   "cell_type": "markdown",
   "metadata": {},
   "source": [
    "It is clear that Land Area doesn't correlate much with any of the factors that I've selected. It only has a very weak correlation with cropland%. So I can pretty much ignore than entirely. Cropland% also only has weak or no correlation. \n",
    "\n",
    "There is a weak correlation with GDP, Teen Birth Rate and Land Area. I had hypothesised that more rural/agricultural countries might have slightly poorer economies and have bigger families for farming but I hadn't expected the difference to be so small.\n",
    "\n",
    "I was also surprised to see that population density was so weakly correlated with the year. I had expected that as population increased over time, the density would increase too. However, I hadn't accounted for urban growth over this time. People wouldn't remain densely packed in the same areas when there could be expansion with new towns and cities being built. \n",
    "\n",
    "As a result, I'm going to remove the land area and cropland columns from my data."
   ]
  },
  {
   "cell_type": "code",
   "execution_count": 19,
   "metadata": {},
   "outputs": [
    {
     "data": {
      "text/html": [
       "<div>\n",
       "<style scoped>\n",
       "    .dataframe tbody tr th:only-of-type {\n",
       "        vertical-align: middle;\n",
       "    }\n",
       "\n",
       "    .dataframe tbody tr th {\n",
       "        vertical-align: top;\n",
       "    }\n",
       "\n",
       "    .dataframe thead th {\n",
       "        text-align: right;\n",
       "    }\n",
       "</style>\n",
       "<table border=\"1\" class=\"dataframe\">\n",
       "  <thead>\n",
       "    <tr style=\"text-align: right;\">\n",
       "      <th></th>\n",
       "      <th>CountryName</th>\n",
       "      <th>Year</th>\n",
       "      <th>GDP</th>\n",
       "      <th>LifeExpectancy</th>\n",
       "      <th>TeenBirthRate</th>\n",
       "      <th>BirthRate</th>\n",
       "      <th>PopulationDensity</th>\n",
       "    </tr>\n",
       "  </thead>\n",
       "  <tbody>\n",
       "    <tr>\n",
       "      <th>0</th>\n",
       "      <td>Caribbean small states</td>\n",
       "      <td>1960</td>\n",
       "      <td>457.464712</td>\n",
       "      <td>62.271795</td>\n",
       "      <td>162.871212</td>\n",
       "      <td>40.017001</td>\n",
       "      <td>NaN</td>\n",
       "    </tr>\n",
       "    <tr>\n",
       "      <th>1</th>\n",
       "      <td>East Asia &amp; Pacific (all income levels)</td>\n",
       "      <td>1960</td>\n",
       "      <td>146.814138</td>\n",
       "      <td>48.298317</td>\n",
       "      <td>66.015974</td>\n",
       "      <td>26.362350</td>\n",
       "      <td>NaN</td>\n",
       "    </tr>\n",
       "    <tr>\n",
       "      <th>2</th>\n",
       "      <td>East Asia &amp; Pacific (developing only)</td>\n",
       "      <td>1960</td>\n",
       "      <td>89.319639</td>\n",
       "      <td>45.549658</td>\n",
       "      <td>75.043631</td>\n",
       "      <td>26.635950</td>\n",
       "      <td>NaN</td>\n",
       "    </tr>\n",
       "  </tbody>\n",
       "</table>\n",
       "</div>"
      ],
      "text/plain": [
       "                               CountryName  Year         GDP  LifeExpectancy  \\\n",
       "0                   Caribbean small states  1960  457.464712       62.271795   \n",
       "1  East Asia & Pacific (all income levels)  1960  146.814138       48.298317   \n",
       "2    East Asia & Pacific (developing only)  1960   89.319639       45.549658   \n",
       "\n",
       "   TeenBirthRate  BirthRate  PopulationDensity  \n",
       "0     162.871212  40.017001                NaN  \n",
       "1      66.015974  26.362350                NaN  \n",
       "2      75.043631  26.635950                NaN  "
      ]
     },
     "execution_count": 19,
     "metadata": {},
     "output_type": "execute_result"
    }
   ],
   "source": [
    "del selected_data_df[\"LandArea\"]\n",
    "del selected_data_df[\"Cropland%\"]\n",
    "selected_data_df.head(3)"
   ]
  },
  {
   "cell_type": "markdown",
   "metadata": {},
   "source": [
    "See! It's smaller now, as I wanted"
   ]
  },
  {
   "cell_type": "code",
   "execution_count": 79,
   "metadata": {},
   "outputs": [],
   "source": [
    "corr = selected_data_df.corr() # reset the correlation dataframe for my smaller data size"
   ]
  },
  {
   "cell_type": "code",
   "execution_count": 80,
   "metadata": {},
   "outputs": [
    {
     "name": "stdout",
     "output_type": "stream",
     "text": [
      "Moderate correlation:\t0.33 \t  \tYear  and  GDP\n",
      "Moderate correlation:\t0.42 \t  \tYear  and  LifeExpectancy\n",
      "Moderate correlation:\t-0.37 \t  \tYear  and  TeenBirthRate\n",
      "Moderate correlation:\t-0.42 \t  \tYear  and  BirthRate\n",
      "No correlation\t:\t0.04 \t  \tYear  and  PopulationDensity\n",
      "\n",
      "Moderate correlation:\t0.33 \t  \tGDP  and  Year\n",
      "Strong correlation:\t0.52 \t  \tGDP  and  LifeExpectancy\n",
      "Moderate correlation:\t-0.46 \t  \tGDP  and  TeenBirthRate\n",
      "Strong correlation:\t-0.51 \t  \tGDP  and  BirthRate\n",
      "Moderate correlation:\t0.33 \t  \tGDP  and  PopulationDensity\n",
      "\n",
      "Moderate correlation:\t0.42 \t  \tLifeExpectancy  and  Year\n",
      "Strong correlation:\t0.52 \t  \tLifeExpectancy  and  GDP\n",
      "Strong correlation:\t-0.8 \t  \tLifeExpectancy  and  TeenBirthRate\n",
      "Strong correlation:\t-0.88 \t  \tLifeExpectancy  and  BirthRate\n",
      "Weak correlation:\t0.15 \t!!!\tLifeExpectancy  and  PopulationDensity\n",
      "\n",
      "Moderate correlation:\t-0.37 \t  \tTeenBirthRate  and  Year\n",
      "Moderate correlation:\t-0.46 \t  \tTeenBirthRate  and  GDP\n",
      "Strong correlation:\t-0.8 \t  \tTeenBirthRate  and  LifeExpectancy\n",
      "Strong correlation:\t0.85 \t  \tTeenBirthRate  and  BirthRate\n",
      "Weak correlation:\t-0.16 \t!!!\tTeenBirthRate  and  PopulationDensity\n",
      "\n",
      "Moderate correlation:\t-0.42 \t  \tBirthRate  and  Year\n",
      "Strong correlation:\t-0.51 \t  \tBirthRate  and  GDP\n",
      "Strong correlation:\t-0.88 \t  \tBirthRate  and  LifeExpectancy\n",
      "Strong correlation:\t0.85 \t  \tBirthRate  and  TeenBirthRate\n",
      "Weak correlation:\t-0.15 \t!!!\tBirthRate  and  PopulationDensity\n",
      "\n",
      "No correlation\t:\t0.04 \t  \tPopulationDensity  and  Year\n",
      "Moderate correlation:\t0.33 \t  \tPopulationDensity  and  GDP\n",
      "Weak correlation:\t0.15 \t!!!\tPopulationDensity  and  LifeExpectancy\n",
      "Weak correlation:\t-0.16 \t!!!\tPopulationDensity  and  TeenBirthRate\n",
      "Weak correlation:\t-0.15 \t!!!\tPopulationDensity  and  BirthRate\n",
      "\n"
     ]
    }
   ],
   "source": [
    "find_correlations(corr, 0.01, highlight_level=\"weak\") # now highlight the weak correlations"
   ]
  },
  {
   "cell_type": "markdown",
   "metadata": {},
   "source": [
    "After removing the columns relating to land, it's clear that population density is the next factor with the weakest correlations. I'm not going to remove it at this point because I'm interested in the moderate correlation with GDP but I won't be exploring its relationship with other factors. \n",
    "\n",
    "Instead, I'm going to focus my attention of factors which have a correlation coefficient of greater than 0.5 (positive or negative)"
   ]
  },
  {
   "cell_type": "code",
   "execution_count": 81,
   "metadata": {},
   "outputs": [
    {
     "name": "stdout",
     "output_type": "stream",
     "text": [
      "\n",
      "Strong correlation:\t0.52 \t  \tGDP  and  LifeExpectancy\n",
      "Strong correlation:\t-0.51 \t  \tGDP  and  BirthRate\n",
      "\n",
      "Strong correlation:\t0.52 \t  \tLifeExpectancy  and  GDP\n",
      "Strong correlation:\t-0.8 \t  \tLifeExpectancy  and  TeenBirthRate\n",
      "Strong correlation:\t-0.88 \t  \tLifeExpectancy  and  BirthRate\n",
      "\n",
      "Strong correlation:\t-0.8 \t  \tTeenBirthRate  and  LifeExpectancy\n",
      "Strong correlation:\t0.85 \t  \tTeenBirthRate  and  BirthRate\n",
      "\n",
      "Strong correlation:\t-0.51 \t  \tBirthRate  and  GDP\n",
      "Strong correlation:\t-0.88 \t  \tBirthRate  and  LifeExpectancy\n",
      "Strong correlation:\t0.85 \t  \tBirthRate  and  TeenBirthRate\n",
      "\n",
      "\n"
     ]
    }
   ],
   "source": [
    "find_correlations(corr) # return only the strong correlations (Default function argument)"
   ]
  },
  {
   "cell_type": "markdown",
   "metadata": {},
   "source": [
    "Firstly, there's a little bit of redundancy. If a country has a high birth rate, it stands to reason that the teen birth rate will be similarly high so the correlation of 0.85 is to be expected. \n",
    "\n",
    "There is also the fact that each item in the list above is duplicated (x --> y) is the same as (y --> x). That means that the interesting relationships we have identified are as follows:\n",
    "\n",
    "- GDP + Life Expectancy (0.52)\n",
    "- GDP + Birth Rate (-0.51)\n",
    "- Life Expectancy and Teen Birth Rate (-0.8)\n",
    "- Life Expectancy and Birth Rate (-0.88)\n",
    "- Teen Birth Rate and Birth Rate (0.85)\n",
    "\n",
    "Now to make a **function** which will take two factors and make a quick chart as well as working out the correlation coefficient. Note: this will use all years of data"
   ]
  },
  {
   "cell_type": "code",
   "execution_count": 66,
   "metadata": {},
   "outputs": [],
   "source": [
    "def initial_visualisation(factor1, factor2):\n",
    "    F1 = selected_data_df[factor1].values\n",
    "    F2 = selected_data_df[factor2].values\n",
    "    \n",
    "    temp_df = selected_data_df[[factor1, factor2]]\n",
    "    temp_corr_df = temp_df.corr()\n",
    "    for key, value in temp_corr_df.iteritems(): # works out the correlation\n",
    "        for item in value:\n",
    "            if abs(item) != 1:\n",
    "                corr_str = round(item,2)\n",
    "\n",
    "    plt.scatter(F1, F2, s=0.1)\n",
    "    plt.xlabel(factor1)\n",
    "    plt.ylabel(factor2)\n",
    "    plt.title(f'Relationship between {factor1} and {factor2}\\n(correlation = {corr_str})')\n",
    "    plt.figure(figsize=(15,15))\n",
    "    plt.show()\n",
    "    print()"
   ]
  },
  {
   "cell_type": "code",
   "execution_count": 68,
   "metadata": {},
   "outputs": [
    {
     "data": {
      "image/png": "[encoded data removed]",
      "text/plain": [
       "<Figure size 432x288 with 1 Axes>"
      ]
     },
     "metadata": {
      "needs_background": "light"
     },
     "output_type": "display_data"
    },
    {
     "data": {
      "text/plain": [
       "<Figure size 1080x1080 with 0 Axes>"
      ]
     },
     "metadata": {},
     "output_type": "display_data"
    },
    {
     "name": "stdout",
     "output_type": "stream",
     "text": [
      "\n"
     ]
    }
   ],
   "source": [
    "initial_visualisation(\"GDP\", \"LifeExpectancy\")"
   ]
  },
  {
   "cell_type": "code",
   "execution_count": 69,
   "metadata": {},
   "outputs": [
    {
     "data": {
      "image/png": "[encoded data removed]",
      "text/plain": [
       "<Figure size 432x288 with 1 Axes>"
      ]
     },
     "metadata": {
      "needs_background": "light"
     },
     "output_type": "display_data"
    },
    {
     "data": {
      "text/plain": [
       "<Figure size 1080x1080 with 0 Axes>"
      ]
     },
     "metadata": {},
     "output_type": "display_data"
    },
    {
     "name": "stdout",
     "output_type": "stream",
     "text": [
      "\n"
     ]
    }
   ],
   "source": [
    "initial_visualisation(\"GDP\", \"BirthRate\")"
   ]
  },
  {
   "cell_type": "code",
   "execution_count": 70,
   "metadata": {},
   "outputs": [
    {
     "data": {
      "image/png": "[encoded data removed]",
      "text/plain": [
       "<Figure size 432x288 with 1 Axes>"
      ]
     },
     "metadata": {
      "needs_background": "light"
     },
     "output_type": "display_data"
    },
    {
     "data": {
      "text/plain": [
       "<Figure size 1080x1080 with 0 Axes>"
      ]
     },
     "metadata": {},
     "output_type": "display_data"
    },
    {
     "name": "stdout",
     "output_type": "stream",
     "text": [
      "\n"
     ]
    }
   ],
   "source": [
    "initial_visualisation(\"LifeExpectancy\", \"TeenBirthRate\")"
   ]
  },
  {
   "cell_type": "code",
   "execution_count": 71,
   "metadata": {},
   "outputs": [
    {
     "data": {
      "image/png": "[encoded data removed]",
      "text/plain": [
       "<Figure size 432x288 with 1 Axes>"
      ]
     },
     "metadata": {
      "needs_background": "light"
     },
     "output_type": "display_data"
    },
    {
     "data": {
      "text/plain": [
       "<Figure size 1080x1080 with 0 Axes>"
      ]
     },
     "metadata": {},
     "output_type": "display_data"
    },
    {
     "name": "stdout",
     "output_type": "stream",
     "text": [
      "\n"
     ]
    }
   ],
   "source": [
    "initial_visualisation(\"LifeExpectancy\", \"BirthRate\")"
   ]
  },
  {
   "cell_type": "code",
   "execution_count": 72,
   "metadata": {},
   "outputs": [
    {
     "data": {
      "image/png": "[encoded data removed]",
      "text/plain": [
       "<Figure size 432x288 with 1 Axes>"
      ]
     },
     "metadata": {
      "needs_background": "light"
     },
     "output_type": "display_data"
    },
    {
     "data": {
      "text/plain": [
       "<Figure size 1080x1080 with 0 Axes>"
      ]
     },
     "metadata": {},
     "output_type": "display_data"
    },
    {
     "name": "stdout",
     "output_type": "stream",
     "text": [
      "\n"
     ]
    }
   ],
   "source": [
    "initial_visualisation(\"TeenBirthRate\", \"BirthRate\")"
   ]
  },
  {
   "cell_type": "markdown",
   "metadata": {},
   "source": [
    "It is at this point that I saw a flaw in my use of Pearson's correlation coefficient to understand the data. Pearson's coefficient shows how close to a linear representation the data is. Looking at my visualisations, I was surprised that the data relating to the GDP was so tightly packed but with a coefficient of only 0.5 while the birth rate data was so spread with a coefficient of 0.85. It makes me wonder if there's other relationships of interest which I ignored for not being linear enough. However, due to the limited scope of my project, I'll be focusing on the factors I already have identified.  \n",
    "\n",
    "Edit: Due to time and effort constraints, I will be looking at \n",
    "\n",
    "- the relationship between **GDP** and **teen birth rate**\n",
    "- if **life expectancy** has improved over time\n",
    "- some \"fun\" anomalies"
   ]
  },
  {
   "cell_type": "markdown",
   "metadata": {},
   "source": [
    "---\n",
    "\n",
    "# Next step: answering questions"
   ]
  },
  {
   "cell_type": "markdown",
   "metadata": {},
   "source": [
    "## Question: Is there a relationship between the GDP per capita and teen birth rate?"
   ]
  },
  {
   "cell_type": "markdown",
   "metadata": {},
   "source": [
    "#### Take a slice of the dataframe so it only shows the relevant columns\n",
    "\n",
    "- Country\n",
    "- Year\n",
    "- GDP\n",
    "- Adolescent Birth Rate"
   ]
  },
  {
   "cell_type": "code",
   "execution_count": 29,
   "metadata": {},
   "outputs": [
    {
     "data": {
      "text/html": [
       "<div>\n",
       "<style scoped>\n",
       "    .dataframe tbody tr th:only-of-type {\n",
       "        vertical-align: middle;\n",
       "    }\n",
       "\n",
       "    .dataframe tbody tr th {\n",
       "        vertical-align: top;\n",
       "    }\n",
       "\n",
       "    .dataframe thead th {\n",
       "        text-align: right;\n",
       "    }\n",
       "</style>\n",
       "<table border=\"1\" class=\"dataframe\">\n",
       "  <thead>\n",
       "    <tr style=\"text-align: right;\">\n",
       "      <th></th>\n",
       "      <th>CountryName</th>\n",
       "      <th>Year</th>\n",
       "      <th>GDP</th>\n",
       "      <th>TeenBirthRate</th>\n",
       "    </tr>\n",
       "  </thead>\n",
       "  <tbody>\n",
       "    <tr>\n",
       "      <th>0</th>\n",
       "      <td>Caribbean small states</td>\n",
       "      <td>1960</td>\n",
       "      <td>457.464712</td>\n",
       "      <td>162.871212</td>\n",
       "    </tr>\n",
       "    <tr>\n",
       "      <th>1</th>\n",
       "      <td>East Asia &amp; Pacific (all income levels)</td>\n",
       "      <td>1960</td>\n",
       "      <td>146.814138</td>\n",
       "      <td>66.015974</td>\n",
       "    </tr>\n",
       "    <tr>\n",
       "      <th>2</th>\n",
       "      <td>East Asia &amp; Pacific (developing only)</td>\n",
       "      <td>1960</td>\n",
       "      <td>89.319639</td>\n",
       "      <td>75.043631</td>\n",
       "    </tr>\n",
       "    <tr>\n",
       "      <th>3</th>\n",
       "      <td>Euro area</td>\n",
       "      <td>1960</td>\n",
       "      <td>924.571393</td>\n",
       "      <td>27.301838</td>\n",
       "    </tr>\n",
       "    <tr>\n",
       "      <th>4</th>\n",
       "      <td>Europe &amp; Central Asia (all income levels)</td>\n",
       "      <td>1960</td>\n",
       "      <td>648.223441</td>\n",
       "      <td>42.030052</td>\n",
       "    </tr>\n",
       "  </tbody>\n",
       "</table>\n",
       "</div>"
      ],
      "text/plain": [
       "                                 CountryName  Year         GDP  TeenBirthRate\n",
       "0                     Caribbean small states  1960  457.464712     162.871212\n",
       "1    East Asia & Pacific (all income levels)  1960  146.814138      66.015974\n",
       "2      East Asia & Pacific (developing only)  1960   89.319639      75.043631\n",
       "3                                  Euro area  1960  924.571393      27.301838\n",
       "4  Europe & Central Asia (all income levels)  1960  648.223441      42.030052"
      ]
     },
     "execution_count": 29,
     "metadata": {},
     "output_type": "execute_result"
    }
   ],
   "source": [
    "GDP_teen_df = selected_data_df[[\"CountryName\", \"Year\", \"GDP\", \"TeenBirthRate\"]]\n",
    "GDP_teen_df.head()"
   ]
  },
  {
   "cell_type": "markdown",
   "metadata": {},
   "source": [
    "#### Are there any nulls?"
   ]
  },
  {
   "cell_type": "code",
   "execution_count": 30,
   "metadata": {},
   "outputs": [
    {
     "data": {
      "text/plain": [
       "CountryName      False\n",
       "Year             False\n",
       "GDP              False\n",
       "TeenBirthRate     True\n",
       "dtype: bool"
      ]
     },
     "execution_count": 30,
     "metadata": {},
     "output_type": "execute_result"
    }
   ],
   "source": [
    "GDP_teen_df.isnull().any()"
   ]
  },
  {
   "cell_type": "markdown",
   "metadata": {},
   "source": [
    "We will need to remove these before making a boxplot diagram\n",
    "\n",
    "---\n",
    "\n",
    "### Time to look at the correlation between GDP and teen birth rate"
   ]
  },
  {
   "cell_type": "code",
   "execution_count": 31,
   "metadata": {},
   "outputs": [
    {
     "data": {
      "text/html": [
       "<div>\n",
       "<style scoped>\n",
       "    .dataframe tbody tr th:only-of-type {\n",
       "        vertical-align: middle;\n",
       "    }\n",
       "\n",
       "    .dataframe tbody tr th {\n",
       "        vertical-align: top;\n",
       "    }\n",
       "\n",
       "    .dataframe thead th {\n",
       "        text-align: right;\n",
       "    }\n",
       "</style>\n",
       "<table border=\"1\" class=\"dataframe\">\n",
       "  <thead>\n",
       "    <tr style=\"text-align: right;\">\n",
       "      <th></th>\n",
       "      <th>Year</th>\n",
       "      <th>GDP</th>\n",
       "      <th>TeenBirthRate</th>\n",
       "    </tr>\n",
       "  </thead>\n",
       "  <tbody>\n",
       "    <tr>\n",
       "      <th>Year</th>\n",
       "      <td>1.000000</td>\n",
       "      <td>0.325817</td>\n",
       "      <td>-0.368044</td>\n",
       "    </tr>\n",
       "    <tr>\n",
       "      <th>GDP</th>\n",
       "      <td>0.325817</td>\n",
       "      <td>1.000000</td>\n",
       "      <td>-0.459438</td>\n",
       "    </tr>\n",
       "    <tr>\n",
       "      <th>TeenBirthRate</th>\n",
       "      <td>-0.368044</td>\n",
       "      <td>-0.459438</td>\n",
       "      <td>1.000000</td>\n",
       "    </tr>\n",
       "  </tbody>\n",
       "</table>\n",
       "</div>"
      ],
      "text/plain": [
       "                   Year       GDP  TeenBirthRate\n",
       "Year           1.000000  0.325817      -0.368044\n",
       "GDP            0.325817  1.000000      -0.459438\n",
       "TeenBirthRate -0.368044 -0.459438       1.000000"
      ]
     },
     "execution_count": 31,
     "metadata": {},
     "output_type": "execute_result"
    }
   ],
   "source": [
    "GDP_teen_df.corr()"
   ]
  },
  {
   "cell_type": "markdown",
   "metadata": {},
   "source": [
    "GDP is generally increasing over time (+0.33 correlation)\n",
    "\n",
    "Teen birth rate is generally decreasing over time (-0.36 correlation)\n",
    "\n",
    "Teen birth rate decreases even more as GDP increases (-0.46 correlation)\n",
    "\n",
    "---\n",
    "\n",
    "##### Initial visualisations"
   ]
  },
  {
   "cell_type": "code",
   "execution_count": 73,
   "metadata": {},
   "outputs": [
    {
     "data": {
      "image/png": "[encoded data removed]",
      "text/plain": [
       "<Figure size 432x288 with 1 Axes>"
      ]
     },
     "metadata": {
      "needs_background": "light"
     },
     "output_type": "display_data"
    },
    {
     "data": {
      "text/plain": [
       "<Figure size 1080x1080 with 0 Axes>"
      ]
     },
     "metadata": {},
     "output_type": "display_data"
    },
    {
     "name": "stdout",
     "output_type": "stream",
     "text": [
      "\n"
     ]
    }
   ],
   "source": [
    "initial_visualisation(\"Year\", \"GDP\")"
   ]
  },
  {
   "cell_type": "markdown",
   "metadata": {},
   "source": [
    "It's clear that there is an upward trend but there looks like there's a lot of countries that continue to have a GDP but it's unclear how many there are. A box and whiskers diagram could bring more clarity about the distribution of this data"
   ]
  },
  {
   "cell_type": "code",
   "execution_count": 33,
   "metadata": {},
   "outputs": [
    {
     "data": {
      "image/png": "[encoded data removed]",
      "text/plain": [
       "<Figure size 720x504 with 1 Axes>"
      ]
     },
     "metadata": {
      "needs_background": "light"
     },
     "output_type": "display_data"
    }
   ],
   "source": [
    "factor = \"GDP\"\n",
    "\n",
    "data_1960 = GDP_teen_df[GDP_teen_df[\"Year\"] == 1960]\n",
    "data_1985 = GDP_teen_df[GDP_teen_df[\"Year\"] == 1985]\n",
    "data_2010 = GDP_teen_df[GDP_teen_df[\"Year\"] == 2010]\n",
    "\n",
    "# Concatenate the three arrays\n",
    "GDP_graph_data = [data_1960[factor], data_1985[factor], data_2010[factor]]\n",
    "\n",
    "# Make a box plot\n",
    "fig, axes = plt.subplots(nrows=1, ncols=1, figsize=(10, 7))\n",
    "bplot = axes.boxplot(GDP_graph_data, vert=True, patch_artist=True)   # colour\n",
    "colors = ['mistyrose', 'moccasin', 'palegreen']\n",
    "\n",
    "for patch, color in zip(bplot['boxes'], colors):\n",
    "    patch.set_facecolor(color)\n",
    "\n",
    "axes.yaxis.grid(True)\n",
    "axes.set_xticks([y for y in range(len(GDP_graph_data))], )\n",
    "axes.set_xlabel('Year',fontsize=15)\n",
    "axes.set_ylabel(factor,fontsize=15)\n",
    "    \n",
    "# Xtick labels\n",
    "plt.setp(axes, xticks=[y for y in range(len(GDP_graph_data))]+[3], xticklabels=[\"0\", '1960', '1985', '2010'])\n",
    "\n",
    "plt.title(f'Global {factor} over time')\n",
    "plt.show()\n",
    "fig.savefig(\"vis_boxplot.png\")"
   ]
  },
  {
   "cell_type": "markdown",
   "metadata": {},
   "source": [
    "This is a difficult factor to visualise because the difference between low GDP and high GDP is so astronomic. Nethertheless, the median is slowly increasing while the outliers are exploding\n",
    "\n",
    "---\n",
    "\n",
    "#### Teen birth rate over time"
   ]
  },
  {
   "cell_type": "code",
   "execution_count": 75,
   "metadata": {},
   "outputs": [
    {
     "data": {
      "image/png": "[encoded data removed]",
      "text/plain": [
       "<Figure size 432x288 with 1 Axes>"
      ]
     },
     "metadata": {
      "needs_background": "light"
     },
     "output_type": "display_data"
    },
    {
     "data": {
      "text/plain": [
       "<Figure size 1080x1080 with 0 Axes>"
      ]
     },
     "metadata": {},
     "output_type": "display_data"
    },
    {
     "name": "stdout",
     "output_type": "stream",
     "text": [
      "\n"
     ]
    }
   ],
   "source": [
    "initial_visualisation(\"Year\", \"TeenBirthRate\")"
   ]
  },
  {
   "cell_type": "markdown",
   "metadata": {},
   "source": [
    "The scatter graph is confusing to read. It's hard to tell the overall trend. One solution would be to look at the mean to determine if it's increasing or decreasing overall. This would give more information year on year. Another option would be a box plot diagram showing information from the beginning, middle and end of our dataset."
   ]
  },
  {
   "cell_type": "code",
   "execution_count": 35,
   "metadata": {},
   "outputs": [
    {
     "data": {
      "image/png": "[encoded data removed]",
      "text/plain": [
       "<Figure size 432x288 with 1 Axes>"
      ]
     },
     "metadata": {
      "needs_background": "light"
     },
     "output_type": "display_data"
    }
   ],
   "source": [
    "GDP_teen_df[[\"TeenBirthRate\", \"Year\"]].groupby(\"Year\").mean()\n",
    "plt.plot(GDP_teen_df[[\"TeenBirthRate\", \"Year\"]].groupby(\"Year\").mean())\n",
    "plt.ylabel(\"Adolescent fertility rate \\n(births per 1,000 women ages 15-19)\")\n",
    "plt.xlabel(\"Year\")\n",
    "plt.title(\"Golbal average adolescent fertility rate \\n(births per 1,000 women ages 15-19)\")\n",
    "plt.axis([1959, 2016,0,120])\n",
    "plt.show()"
   ]
  },
  {
   "cell_type": "markdown",
   "metadata": {},
   "source": [
    "The average fertility rate for adolescents 15-19 years old is decreasing quite smoothly year on year"
   ]
  },
  {
   "cell_type": "code",
   "execution_count": 36,
   "metadata": {},
   "outputs": [
    {
     "data": {
      "image/png": "[encoded data removed]",
      "text/plain": [
       "<Figure size 720x504 with 1 Axes>"
      ]
     },
     "metadata": {
      "needs_background": "light"
     },
     "output_type": "display_data"
    }
   ],
   "source": [
    "factor = \"TeenBirthRate\"\n",
    "\n",
    "# The dataframe currently has ~450 entries with no value. We will filter these out below\n",
    "temp_df = pd.DataFrame(selected_data_df)\n",
    "NaN_filter = temp_df[factor].isnull()\n",
    "temp_df = temp_df[~NaN_filter] # filters the dataframe according to everything that ISN'T in the NaN filter\n",
    "\n",
    "data_1960 = temp_df[temp_df[\"Year\"] == 1960]\n",
    "data_1985 = temp_df[temp_df[\"Year\"] == 1985]\n",
    "data_2010 = temp_df[temp_df[\"Year\"] == 2010]\n",
    "\n",
    "# Concatenate the three arrays\n",
    "graph_data = [data_1960[factor], data_1985[factor], data_2010[factor]]\n",
    "\n",
    "# Make a box plot\n",
    "fig, axes = plt.subplots(nrows=1, ncols=1, figsize=(10, 7))\n",
    "bplot = axes.boxplot(graph_data, vert=True, patch_artist=True)   # colour\n",
    "colors = ['mistyrose', 'moccasin', 'palegreen']\n",
    "\n",
    "for patch, color in zip(bplot['boxes'], colors):\n",
    "    patch.set_facecolor(color)\n",
    "\n",
    "axes.yaxis.grid(True)\n",
    "axes.set_xticks([y for y in range(len(graph_data))], )\n",
    "axes.set_xlabel('Year',fontsize=15)\n",
    "axes.set_ylabel(\"Adolescent fertility rate \\n(births per 1,000 women ages 15-19)\",fontsize=15)\n",
    "    \n",
    "# Xtick labels\n",
    "plt.setp(axes, xticks=[y for y in range(len(graph_data))]+[3], xticklabels=[\"0\", '1960', '1985', '2010'])\n",
    "\n",
    "plt.title('Global Adolescent fertility rate over time')\n",
    "plt.show()\n",
    "fig.savefig(\"vis_boxplot.png\")"
   ]
  },
  {
   "cell_type": "markdown",
   "metadata": {},
   "source": [
    "This clearly shows that the trend is that teenage birth rates are decreasing over time. The median decreased between each 25 year apart slice and even the range is smaller over time, with a few outliers.\n",
    "\n",
    "With the GDP increasing over time and teen births decreasing over time, we could hypothesise that these factors might be linked"
   ]
  },
  {
   "cell_type": "markdown",
   "metadata": {},
   "source": [
    "---\n",
    "\n",
    "#### Comparing GDP and adolescent birth rates directly"
   ]
  },
  {
   "cell_type": "code",
   "execution_count": 76,
   "metadata": {},
   "outputs": [
    {
     "data": {
      "image/png": "[encoded data removed]",
      "text/plain": [
       "<Figure size 432x288 with 1 Axes>"
      ]
     },
     "metadata": {
      "needs_background": "light"
     },
     "output_type": "display_data"
    },
    {
     "data": {
      "text/plain": [
       "<Figure size 1080x1080 with 0 Axes>"
      ]
     },
     "metadata": {},
     "output_type": "display_data"
    },
    {
     "name": "stdout",
     "output_type": "stream",
     "text": [
      "\n"
     ]
    }
   ],
   "source": [
    "initial_visualisation(\"GDP\", \"TeenBirthRate\")"
   ]
  },
  {
   "cell_type": "markdown",
   "metadata": {},
   "source": [
    "There seems to be a sharp cutoff where a higher GDP correlates with a much lower teenage birth rate. It should be noted that this chart shows all the historical data at once. We should compare to similar charts depicting just 1960 and just 2010"
   ]
  },
  {
   "cell_type": "code",
   "execution_count": 38,
   "metadata": {},
   "outputs": [
    {
     "data": {
      "image/png": "[encoded data removed]",
      "text/plain": [
       "<Figure size 432x288 with 1 Axes>"
      ]
     },
     "metadata": {
      "needs_background": "light"
     },
     "output_type": "display_data"
    },
    {
     "data": {
      "text/plain": [
       "<Figure size 1080x1080 with 0 Axes>"
      ]
     },
     "metadata": {},
     "output_type": "display_data"
    },
    {
     "name": "stdout",
     "output_type": "stream",
     "text": [
      "\n"
     ]
    }
   ],
   "source": [
    "year = 1960\n",
    "year_filter = GDP_teen_df[\"Year\"] == year\n",
    "year_1960_df = GDP_teen_df[year_filter]\n",
    "\n",
    "GDP = year_1960_df['GDP'].values\n",
    "teen_BR = year_1960_df['TeenBirthRate'].values\n",
    "\n",
    "plt.scatter(GDP, teen_BR, s=0.4)\n",
    "plt.xlabel('GDP')\n",
    "plt.ylabel(\"Adolescent fertility rate \\n(births per 1,000 women ages 15-19)\")\n",
    "plt.title(f'Adolescent fertility rate compared to GDP\\n({year})')\n",
    "plt.figure(figsize=(15,15))\n",
    "plt.show()\n",
    "print()"
   ]
  },
  {
   "cell_type": "code",
   "execution_count": 39,
   "metadata": {},
   "outputs": [
    {
     "data": {
      "image/png": "[encoded data removed]",
      "text/plain": [
       "<Figure size 432x288 with 1 Axes>"
      ]
     },
     "metadata": {
      "needs_background": "light"
     },
     "output_type": "display_data"
    },
    {
     "data": {
      "text/plain": [
       "<Figure size 1080x1080 with 0 Axes>"
      ]
     },
     "metadata": {},
     "output_type": "display_data"
    },
    {
     "name": "stdout",
     "output_type": "stream",
     "text": [
      "\n"
     ]
    }
   ],
   "source": [
    "year = 2010\n",
    "year_filter = GDP_teen_df[\"Year\"] == year\n",
    "year_2010_df = GDP_teen_df[year_filter]\n",
    "\n",
    "GDP = year_2010_df['GDP'].values\n",
    "teen_BR = year_2010_df['TeenBirthRate'].values\n",
    "\n",
    "plt.scatter(GDP, teen_BR, s=0.4)\n",
    "plt.xlabel('GDP')\n",
    "plt.ylabel(\"Adolescent fertility rate \\n(births per 1,000 women ages 15-19)\")\n",
    "plt.title(f'Adolescent fertility rate compared to GDP\\n({year})')\n",
    "plt.figure(figsize=(15,15))\n",
    "plt.show()\n",
    "print()"
   ]
  },
  {
   "cell_type": "markdown",
   "metadata": {},
   "source": [
    "It is important to note that the y-axis of both graphs is identical but the x-axis is so wildly different that it's difficult to compare the values directly. On the chart showing all the data across the 50 years, the entirety of the 1960 graph would be within the 0-3000 GDP section, making it difficult to draw conclusions because even the richest country then would be incredibly poor by today's standards.\n",
    "\n",
    "A better solution might be to look at the most recent decade's worth of data"
   ]
  },
  {
   "cell_type": "code",
   "execution_count": 40,
   "metadata": {},
   "outputs": [
    {
     "data": {
      "image/png": "[encoded data removed]",
      "text/plain": [
       "<Figure size 432x288 with 1 Axes>"
      ]
     },
     "metadata": {
      "needs_background": "light"
     },
     "output_type": "display_data"
    },
    {
     "data": {
      "text/plain": [
       "<Figure size 1440x1440 with 0 Axes>"
      ]
     },
     "metadata": {},
     "output_type": "display_data"
    },
    {
     "name": "stdout",
     "output_type": "stream",
     "text": [
      "\n"
     ]
    }
   ],
   "source": [
    "year = 2000\n",
    "year_filter = GDP_teen_df[\"Year\"] >= year\n",
    "year_2000s_df = GDP_teen_df[year_filter]\n",
    "\n",
    "GDP = year_2000s_df['GDP'].values\n",
    "teen_BR = year_2000s_df['TeenBirthRate'].values\n",
    "\n",
    "plt.scatter(GDP, teen_BR, s=0.4)\n",
    "plt.xlabel('GDP')\n",
    "plt.ylabel(\"Adolescent fertility rate \\n(births per 1,000 women ages 15-19)\")\n",
    "plt.title(f'Adolescent fertility rate compared to GDP\\n(2000-2010)')\n",
    "plt.grid()\n",
    "plt.yticks(np.arange(0,251,25))\n",
    "plt.xticks(np.arange(0,120001,10000), rotation=90)\n",
    "plt.figure(figsize=(20,20))\n",
    "plt.show()\n",
    "print()"
   ]
  },
  {
   "cell_type": "markdown",
   "metadata": {},
   "source": [
    "It's not incredibly statistical but from reading the graph it seems like after a country reaches a per capita GDP of 10,000, the rate of adolscent births drops dramatically. By 50,000 it drops even further. At that point, increases in GDP don't do much to affect the birth rate. This is roughly in keeping with what we saw from the initial graph covering all the years, but it's good to double check."
   ]
  },
  {
   "cell_type": "markdown",
   "metadata": {},
   "source": [
    "---\n",
    "\n",
    "---\n",
    "\n",
    "<h1 style=\"font-size:2em;color:#2467C0\"> Question: Has life expectancy improved over time? <\\h1>"
   ]
  },
  {
   "cell_type": "markdown",
   "metadata": {},
   "source": [
    "Write a function to graph life expectancy for a specific country"
   ]
  },
  {
   "cell_type": "code",
   "execution_count": 41,
   "metadata": {},
   "outputs": [],
   "source": [
    "def country_life_expectancy(country):\n",
    "    \n",
    "    # make a dataframe just for that country's information\n",
    "    filter1 = LE_filtered_df['CountryName'].str.contains(country)\n",
    "    LE_df = LE_filtered_df[filter1]\n",
    "\n",
    "    # get the years that there is data for\n",
    "    years = LE_df['Year'].values\n",
    "    # get the life expectancy for those years\n",
    "    life_expectancy = LE_df['LifeExpectancy'].values\n",
    "\n",
    "    # create a chart\n",
    "    plt.plot(years, life_expectancy)\n",
    "    plt.xlabel('Year')\n",
    "    plt.ylabel(\"Life expectancy at birth, total (years)\")\n",
    "    plt.title(f'Life Expectancy in {country}')\n",
    "    plt.axis([1959, 2016,15,85])\n",
    "    plt.show()\n",
    "    print()"
   ]
  },
  {
   "cell_type": "markdown",
   "metadata": {},
   "source": [
    "### Making a scatter chart showing overall life expectancy over time"
   ]
  },
  {
   "cell_type": "code",
   "execution_count": 77,
   "metadata": {},
   "outputs": [
    {
     "data": {
      "image/png": "[encoded data removed]",
      "text/plain": [
       "<Figure size 432x288 with 1 Axes>"
      ]
     },
     "metadata": {
      "needs_background": "light"
     },
     "output_type": "display_data"
    },
    {
     "data": {
      "text/plain": [
       "<Figure size 1080x1080 with 0 Axes>"
      ]
     },
     "metadata": {},
     "output_type": "display_data"
    },
    {
     "name": "stdout",
     "output_type": "stream",
     "text": [
      "\n"
     ]
    }
   ],
   "source": [
    "initial_visualisation(\"Year\", \"LifeExpectancy\")"
   ]
  },
  {
   "cell_type": "markdown",
   "metadata": {},
   "source": [
    "It generally looks like it's increasing but it's messy and a little hard to read"
   ]
  },
  {
   "cell_type": "markdown",
   "metadata": {},
   "source": [
    "There is a moderate positive correlation (0.42) between year and life expectancy"
   ]
  },
  {
   "cell_type": "markdown",
   "metadata": {},
   "source": [
    "---\n",
    "\n",
    "### Question: Which countries were so anomalous?\n",
    "- life expectancy of <30 around the year 1975\n",
    "- life expectancy of ~30 around the year 1993\n",
    "- life expectancy of ~30 around 1978\n",
    "- life expectancy of ~37 in 1995"
   ]
  },
  {
   "cell_type": "markdown",
   "metadata": {},
   "source": [
    "#### 1) Find a country with a life expectancy of **below 30** around **1975** and **1990**"
   ]
  },
  {
   "cell_type": "code",
   "execution_count": 87,
   "metadata": {
    "collapsed": true,
    "jupyter": {
     "outputs_hidden": true
    }
   },
   "outputs": [
    {
     "data": {
      "text/html": [
       "<div>\n",
       "<style scoped>\n",
       "    .dataframe tbody tr th:only-of-type {\n",
       "        vertical-align: middle;\n",
       "    }\n",
       "\n",
       "    .dataframe tbody tr th {\n",
       "        vertical-align: top;\n",
       "    }\n",
       "\n",
       "    .dataframe thead th {\n",
       "        text-align: right;\n",
       "    }\n",
       "</style>\n",
       "<table border=\"1\" class=\"dataframe\">\n",
       "  <thead>\n",
       "    <tr style=\"text-align: right;\">\n",
       "      <th></th>\n",
       "      <th>CountryName</th>\n",
       "      <th>Year</th>\n",
       "      <th>LifeExpectancy</th>\n",
       "    </tr>\n",
       "  </thead>\n",
       "  <tbody>\n",
       "    <tr>\n",
       "      <th>585847</th>\n",
       "      <td>Cambodia</td>\n",
       "      <td>1974</td>\n",
       "      <td>28.258488</td>\n",
       "    </tr>\n",
       "    <tr>\n",
       "      <th>656561</th>\n",
       "      <td>Cambodia</td>\n",
       "      <td>1975</td>\n",
       "      <td>23.884537</td>\n",
       "    </tr>\n",
       "    <tr>\n",
       "      <th>729252</th>\n",
       "      <td>Cambodia</td>\n",
       "      <td>1976</td>\n",
       "      <td>20.656512</td>\n",
       "    </tr>\n",
       "    <tr>\n",
       "      <th>803241</th>\n",
       "      <td>Cambodia</td>\n",
       "      <td>1977</td>\n",
       "      <td>19.265512</td>\n",
       "    </tr>\n",
       "    <tr>\n",
       "      <th>878850</th>\n",
       "      <td>Cambodia</td>\n",
       "      <td>1978</td>\n",
       "      <td>20.064927</td>\n",
       "    </tr>\n",
       "    <tr>\n",
       "      <th>954617</th>\n",
       "      <td>Cambodia</td>\n",
       "      <td>1979</td>\n",
       "      <td>23.029098</td>\n",
       "    </tr>\n",
       "    <tr>\n",
       "      <th>1032003</th>\n",
       "      <td>Cambodia</td>\n",
       "      <td>1980</td>\n",
       "      <td>27.738976</td>\n",
       "    </tr>\n",
       "    <tr>\n",
       "      <th>2089005</th>\n",
       "      <td>Rwanda</td>\n",
       "      <td>1991</td>\n",
       "      <td>29.745829</td>\n",
       "    </tr>\n",
       "    <tr>\n",
       "      <th>2209528</th>\n",
       "      <td>Rwanda</td>\n",
       "      <td>1992</td>\n",
       "      <td>27.483659</td>\n",
       "    </tr>\n",
       "    <tr>\n",
       "      <th>2332668</th>\n",
       "      <td>Rwanda</td>\n",
       "      <td>1993</td>\n",
       "      <td>27.078902</td>\n",
       "    </tr>\n",
       "    <tr>\n",
       "      <th>2457918</th>\n",
       "      <td>Rwanda</td>\n",
       "      <td>1994</td>\n",
       "      <td>28.568122</td>\n",
       "    </tr>\n",
       "  </tbody>\n",
       "</table>\n",
       "</div>"
      ],
      "text/plain": [
       "        CountryName  Year  LifeExpectancy\n",
       "585847     Cambodia  1974       28.258488\n",
       "656561     Cambodia  1975       23.884537\n",
       "729252     Cambodia  1976       20.656512\n",
       "803241     Cambodia  1977       19.265512\n",
       "878850     Cambodia  1978       20.064927\n",
       "954617     Cambodia  1979       23.029098\n",
       "1032003    Cambodia  1980       27.738976\n",
       "2089005      Rwanda  1991       29.745829\n",
       "2209528      Rwanda  1992       27.483659\n",
       "2332668      Rwanda  1993       27.078902\n",
       "2457918      Rwanda  1994       28.568122"
      ]
     },
     "execution_count": 87,
     "metadata": {},
     "output_type": "execute_result"
    }
   ],
   "source": [
    "year_filter = LE_filtered_df['Year'] > 1970\n",
    "age_filter = LE_filtered_df['LifeExpectancy'] < 30\n",
    "\n",
    "question_df = LE_filtered_df[year_filter & age_filter]\n",
    "question_df\n",
    "# Expand for full data showing the relevant years"
   ]
  },
  {
   "cell_type": "code",
   "execution_count": 46,
   "metadata": {},
   "outputs": [
    {
     "data": {
      "text/html": [
       "<div>\n",
       "<style scoped>\n",
       "    .dataframe tbody tr th:only-of-type {\n",
       "        vertical-align: middle;\n",
       "    }\n",
       "\n",
       "    .dataframe tbody tr th {\n",
       "        vertical-align: top;\n",
       "    }\n",
       "\n",
       "    .dataframe thead th {\n",
       "        text-align: right;\n",
       "    }\n",
       "</style>\n",
       "<table border=\"1\" class=\"dataframe\">\n",
       "  <thead>\n",
       "    <tr style=\"text-align: right;\">\n",
       "      <th></th>\n",
       "      <th>Year</th>\n",
       "      <th>GDP</th>\n",
       "      <th>LifeExpectancy</th>\n",
       "      <th>TeenBirthRate</th>\n",
       "      <th>BirthRate</th>\n",
       "      <th>PopulationDensity</th>\n",
       "    </tr>\n",
       "    <tr>\n",
       "      <th>CountryName</th>\n",
       "      <th></th>\n",
       "      <th></th>\n",
       "      <th></th>\n",
       "      <th></th>\n",
       "      <th></th>\n",
       "      <th></th>\n",
       "    </tr>\n",
       "  </thead>\n",
       "  <tbody>\n",
       "    <tr>\n",
       "      <th>Cambodia</th>\n",
       "      <td>1974</td>\n",
       "      <td>77.820199</td>\n",
       "      <td>28.258488</td>\n",
       "      <td>85.6196</td>\n",
       "      <td>40.779</td>\n",
       "      <td>42.836976</td>\n",
       "    </tr>\n",
       "    <tr>\n",
       "      <th>Rwanda</th>\n",
       "      <td>1991</td>\n",
       "      <td>125.690127</td>\n",
       "      <td>27.078902</td>\n",
       "      <td>56.2852</td>\n",
       "      <td>44.003</td>\n",
       "      <td>243.047710</td>\n",
       "    </tr>\n",
       "  </tbody>\n",
       "</table>\n",
       "</div>"
      ],
      "text/plain": [
       "             Year         GDP  LifeExpectancy  TeenBirthRate  BirthRate  \\\n",
       "CountryName                                                               \n",
       "Cambodia     1974   77.820199       28.258488        85.6196     40.779   \n",
       "Rwanda       1991  125.690127       27.078902        56.2852     44.003   \n",
       "\n",
       "             PopulationDensity  \n",
       "CountryName                     \n",
       "Cambodia             42.836976  \n",
       "Rwanda              243.047710  "
      ]
     },
     "execution_count": 46,
     "metadata": {},
     "output_type": "execute_result"
    }
   ],
   "source": [
    "# Shows the lowest value for each country that appears in our filter\n",
    "question_df.groupby(\"CountryName\").min()"
   ]
  },
  {
   "cell_type": "code",
   "execution_count": 47,
   "metadata": {},
   "outputs": [
    {
     "data": {
      "image/png": "[encoded data removed]",
      "text/plain": [
       "<Figure size 432x288 with 1 Axes>"
      ]
     },
     "metadata": {
      "needs_background": "light"
     },
     "output_type": "display_data"
    },
    {
     "name": "stdout",
     "output_type": "stream",
     "text": [
      "\n"
     ]
    },
    {
     "data": {
      "image/png": "[encoded data removed]",
      "text/plain": [
       "<Figure size 432x288 with 1 Axes>"
      ]
     },
     "metadata": {
      "needs_background": "light"
     },
     "output_type": "display_data"
    },
    {
     "name": "stdout",
     "output_type": "stream",
     "text": [
      "\n"
     ]
    }
   ],
   "source": [
    "country_life_expectancy(\"Cambodia\") # had to change the scale to accommodate the <20 life expectancy :()\n",
    "country_life_expectancy(\"Rwanda\")"
   ]
  },
  {
   "cell_type": "markdown",
   "metadata": {},
   "source": [
    "---\n",
    "#### 2) Find a country with a life expectancy of **~30** around the year **1978**"
   ]
  },
  {
   "cell_type": "code",
   "execution_count": 88,
   "metadata": {
    "collapsed": true,
    "jupyter": {
     "outputs_hidden": true
    }
   },
   "outputs": [
    {
     "data": {
      "text/html": [
       "<div>\n",
       "<style scoped>\n",
       "    .dataframe tbody tr th:only-of-type {\n",
       "        vertical-align: middle;\n",
       "    }\n",
       "\n",
       "    .dataframe tbody tr th {\n",
       "        vertical-align: top;\n",
       "    }\n",
       "\n",
       "    .dataframe thead th {\n",
       "        text-align: right;\n",
       "    }\n",
       "</style>\n",
       "<table border=\"1\" class=\"dataframe\">\n",
       "  <thead>\n",
       "    <tr style=\"text-align: right;\">\n",
       "      <th></th>\n",
       "      <th>CountryName</th>\n",
       "      <th>Year</th>\n",
       "      <th>LifeExpectancy</th>\n",
       "    </tr>\n",
       "  </thead>\n",
       "  <tbody>\n",
       "    <tr>\n",
       "      <th>777641</th>\n",
       "      <td>Timor-Leste</td>\n",
       "      <td>1976</td>\n",
       "      <td>33.727341</td>\n",
       "    </tr>\n",
       "    <tr>\n",
       "      <th>853288</th>\n",
       "      <td>Timor-Leste</td>\n",
       "      <td>1977</td>\n",
       "      <td>32.840268</td>\n",
       "    </tr>\n",
       "    <tr>\n",
       "      <th>928906</th>\n",
       "      <td>Timor-Leste</td>\n",
       "      <td>1978</td>\n",
       "      <td>32.641732</td>\n",
       "    </tr>\n",
       "    <tr>\n",
       "      <th>1004749</th>\n",
       "      <td>Timor-Leste</td>\n",
       "      <td>1979</td>\n",
       "      <td>33.188122</td>\n",
       "    </tr>\n",
       "    <tr>\n",
       "      <th>1085795</th>\n",
       "      <td>Timor-Leste</td>\n",
       "      <td>1980</td>\n",
       "      <td>34.425951</td>\n",
       "    </tr>\n",
       "  </tbody>\n",
       "</table>\n",
       "</div>"
      ],
      "text/plain": [
       "         CountryName  Year  LifeExpectancy\n",
       "777641   Timor-Leste  1976       33.727341\n",
       "853288   Timor-Leste  1977       32.840268\n",
       "928906   Timor-Leste  1978       32.641732\n",
       "1004749  Timor-Leste  1979       33.188122\n",
       "1085795  Timor-Leste  1980       34.425951"
      ]
     },
     "execution_count": 88,
     "metadata": {},
     "output_type": "execute_result"
    }
   ],
   "source": [
    "year_filter = LE_filtered_df['Year'] > 1973\n",
    "year_filter2 = LE_filtered_df['Year'] < 1981\n",
    "age_filter = LE_filtered_df['LifeExpectancy'] < 35\n",
    "age_filter2 = LE_filtered_df['LifeExpectancy'] > 30\n",
    "\n",
    "question_df = LE_filtered_df[year_filter & year_filter2 & age_filter & age_filter2]\n",
    "question_df\n",
    "\n",
    "# Expand for full data showing the relevant years"
   ]
  },
  {
   "cell_type": "code",
   "execution_count": 89,
   "metadata": {},
   "outputs": [
    {
     "data": {
      "text/html": [
       "<div>\n",
       "<style scoped>\n",
       "    .dataframe tbody tr th:only-of-type {\n",
       "        vertical-align: middle;\n",
       "    }\n",
       "\n",
       "    .dataframe tbody tr th {\n",
       "        vertical-align: top;\n",
       "    }\n",
       "\n",
       "    .dataframe thead th {\n",
       "        text-align: right;\n",
       "    }\n",
       "</style>\n",
       "<table border=\"1\" class=\"dataframe\">\n",
       "  <thead>\n",
       "    <tr style=\"text-align: right;\">\n",
       "      <th></th>\n",
       "      <th>Year</th>\n",
       "      <th>LifeExpectancy</th>\n",
       "    </tr>\n",
       "    <tr>\n",
       "      <th>CountryName</th>\n",
       "      <th></th>\n",
       "      <th></th>\n",
       "    </tr>\n",
       "  </thead>\n",
       "  <tbody>\n",
       "    <tr>\n",
       "      <th>Timor-Leste</th>\n",
       "      <td>1976</td>\n",
       "      <td>32.641732</td>\n",
       "    </tr>\n",
       "  </tbody>\n",
       "</table>\n",
       "</div>"
      ],
      "text/plain": [
       "             Year  LifeExpectancy\n",
       "CountryName                      \n",
       "Timor-Leste  1976       32.641732"
      ]
     },
     "execution_count": 89,
     "metadata": {},
     "output_type": "execute_result"
    }
   ],
   "source": [
    "# Shows the lowest value for each country that appears in our filter\n",
    "question_df.groupby(\"CountryName\").min()"
   ]
  },
  {
   "cell_type": "code",
   "execution_count": 86,
   "metadata": {},
   "outputs": [
    {
     "data": {
      "image/png": "[encoded data removed]",
      "text/plain": [
       "<Figure size 432x288 with 1 Axes>"
      ]
     },
     "metadata": {
      "needs_background": "light"
     },
     "output_type": "display_data"
    },
    {
     "name": "stdout",
     "output_type": "stream",
     "text": [
      "\n"
     ]
    }
   ],
   "source": [
    "country_life_expectancy(\"Timor-Leste\")"
   ]
  },
  {
   "cell_type": "markdown",
   "metadata": {},
   "source": [
    "---\n",
    "#### 3) Find a country with a life expectancy of **~37** around the year **1995**"
   ]
  },
  {
   "cell_type": "code",
   "execution_count": 90,
   "metadata": {
    "collapsed": true,
    "jupyter": {
     "outputs_hidden": true
    }
   },
   "outputs": [
    {
     "data": {
      "text/html": [
       "<div>\n",
       "<style scoped>\n",
       "    .dataframe tbody tr th:only-of-type {\n",
       "        vertical-align: middle;\n",
       "    }\n",
       "\n",
       "    .dataframe tbody tr th {\n",
       "        vertical-align: top;\n",
       "    }\n",
       "\n",
       "    .dataframe thead th {\n",
       "        text-align: right;\n",
       "    }\n",
       "</style>\n",
       "<table border=\"1\" class=\"dataframe\">\n",
       "  <thead>\n",
       "    <tr style=\"text-align: right;\">\n",
       "      <th></th>\n",
       "      <th>CountryName</th>\n",
       "      <th>Year</th>\n",
       "      <th>LifeExpectancy</th>\n",
       "    </tr>\n",
       "  </thead>\n",
       "  <tbody>\n",
       "    <tr>\n",
       "      <th>1592807</th>\n",
       "      <td>Sierra Leone</td>\n",
       "      <td>1986</td>\n",
       "      <td>39.886268</td>\n",
       "    </tr>\n",
       "    <tr>\n",
       "      <th>1681942</th>\n",
       "      <td>Sierra Leone</td>\n",
       "      <td>1987</td>\n",
       "      <td>39.330659</td>\n",
       "    </tr>\n",
       "    <tr>\n",
       "      <th>1771270</th>\n",
       "      <td>Sierra Leone</td>\n",
       "      <td>1988</td>\n",
       "      <td>38.694073</td>\n",
       "    </tr>\n",
       "    <tr>\n",
       "      <th>1860626</th>\n",
       "      <td>Rwanda</td>\n",
       "      <td>1989</td>\n",
       "      <td>38.041805</td>\n",
       "    </tr>\n",
       "    <tr>\n",
       "      <th>1863413</th>\n",
       "      <td>Sierra Leone</td>\n",
       "      <td>1989</td>\n",
       "      <td>38.018585</td>\n",
       "    </tr>\n",
       "    <tr>\n",
       "      <th>1976081</th>\n",
       "      <td>Sierra Leone</td>\n",
       "      <td>1990</td>\n",
       "      <td>37.353415</td>\n",
       "    </tr>\n",
       "    <tr>\n",
       "      <th>2092329</th>\n",
       "      <td>Sierra Leone</td>\n",
       "      <td>1991</td>\n",
       "      <td>36.748341</td>\n",
       "    </tr>\n",
       "    <tr>\n",
       "      <th>2212937</th>\n",
       "      <td>Sierra Leone</td>\n",
       "      <td>1992</td>\n",
       "      <td>36.246585</td>\n",
       "    </tr>\n",
       "    <tr>\n",
       "      <th>2335946</th>\n",
       "      <td>Sierra Leone</td>\n",
       "      <td>1993</td>\n",
       "      <td>35.885756</td>\n",
       "    </tr>\n",
       "    <tr>\n",
       "      <th>2461297</th>\n",
       "      <td>Sierra Leone</td>\n",
       "      <td>1994</td>\n",
       "      <td>35.701390</td>\n",
       "    </tr>\n",
       "    <tr>\n",
       "      <th>2594477</th>\n",
       "      <td>Sierra Leone</td>\n",
       "      <td>1995</td>\n",
       "      <td>35.724780</td>\n",
       "    </tr>\n",
       "    <tr>\n",
       "      <th>2725924</th>\n",
       "      <td>Rwanda</td>\n",
       "      <td>1996</td>\n",
       "      <td>35.659195</td>\n",
       "    </tr>\n",
       "    <tr>\n",
       "      <th>2729675</th>\n",
       "      <td>Sierra Leone</td>\n",
       "      <td>1996</td>\n",
       "      <td>35.974146</td>\n",
       "    </tr>\n",
       "    <tr>\n",
       "      <th>2861930</th>\n",
       "      <td>Rwanda</td>\n",
       "      <td>1997</td>\n",
       "      <td>39.804805</td>\n",
       "    </tr>\n",
       "    <tr>\n",
       "      <th>2865707</th>\n",
       "      <td>Sierra Leone</td>\n",
       "      <td>1997</td>\n",
       "      <td>36.426195</td>\n",
       "    </tr>\n",
       "    <tr>\n",
       "      <th>3002905</th>\n",
       "      <td>Sierra Leone</td>\n",
       "      <td>1998</td>\n",
       "      <td>37.046805</td>\n",
       "    </tr>\n",
       "    <tr>\n",
       "      <th>3143958</th>\n",
       "      <td>Sierra Leone</td>\n",
       "      <td>1999</td>\n",
       "      <td>37.812537</td>\n",
       "    </tr>\n",
       "    <tr>\n",
       "      <th>3296863</th>\n",
       "      <td>Sierra Leone</td>\n",
       "      <td>2000</td>\n",
       "      <td>38.690146</td>\n",
       "    </tr>\n",
       "    <tr>\n",
       "      <th>3447898</th>\n",
       "      <td>Sierra Leone</td>\n",
       "      <td>2001</td>\n",
       "      <td>39.645488</td>\n",
       "    </tr>\n",
       "  </tbody>\n",
       "</table>\n",
       "</div>"
      ],
      "text/plain": [
       "          CountryName  Year  LifeExpectancy\n",
       "1592807  Sierra Leone  1986       39.886268\n",
       "1681942  Sierra Leone  1987       39.330659\n",
       "1771270  Sierra Leone  1988       38.694073\n",
       "1860626        Rwanda  1989       38.041805\n",
       "1863413  Sierra Leone  1989       38.018585\n",
       "1976081  Sierra Leone  1990       37.353415\n",
       "2092329  Sierra Leone  1991       36.748341\n",
       "2212937  Sierra Leone  1992       36.246585\n",
       "2335946  Sierra Leone  1993       35.885756\n",
       "2461297  Sierra Leone  1994       35.701390\n",
       "2594477  Sierra Leone  1995       35.724780\n",
       "2725924        Rwanda  1996       35.659195\n",
       "2729675  Sierra Leone  1996       35.974146\n",
       "2861930        Rwanda  1997       39.804805\n",
       "2865707  Sierra Leone  1997       36.426195\n",
       "3002905  Sierra Leone  1998       37.046805\n",
       "3143958  Sierra Leone  1999       37.812537\n",
       "3296863  Sierra Leone  2000       38.690146\n",
       "3447898  Sierra Leone  2001       39.645488"
      ]
     },
     "execution_count": 90,
     "metadata": {},
     "output_type": "execute_result"
    }
   ],
   "source": [
    "year_filter = LE_filtered_df['Year'] > 1985\n",
    "year_filter2 = LE_filtered_df['Year'] < 2005\n",
    "age_filter = LE_filtered_df['LifeExpectancy'] < 40\n",
    "age_filter2 = LE_filtered_df['LifeExpectancy'] > 35\n",
    "\n",
    "question_df = LE_filtered_df[year_filter & year_filter2 & age_filter & age_filter2]\n",
    "question_df\n",
    "# Expand for full data showing the relevant years"
   ]
  },
  {
   "cell_type": "code",
   "execution_count": 91,
   "metadata": {},
   "outputs": [
    {
     "data": {
      "text/html": [
       "<div>\n",
       "<style scoped>\n",
       "    .dataframe tbody tr th:only-of-type {\n",
       "        vertical-align: middle;\n",
       "    }\n",
       "\n",
       "    .dataframe tbody tr th {\n",
       "        vertical-align: top;\n",
       "    }\n",
       "\n",
       "    .dataframe thead th {\n",
       "        text-align: right;\n",
       "    }\n",
       "</style>\n",
       "<table border=\"1\" class=\"dataframe\">\n",
       "  <thead>\n",
       "    <tr style=\"text-align: right;\">\n",
       "      <th></th>\n",
       "      <th>Year</th>\n",
       "      <th>LifeExpectancy</th>\n",
       "    </tr>\n",
       "    <tr>\n",
       "      <th>CountryName</th>\n",
       "      <th></th>\n",
       "      <th></th>\n",
       "    </tr>\n",
       "  </thead>\n",
       "  <tbody>\n",
       "    <tr>\n",
       "      <th>Rwanda</th>\n",
       "      <td>1989</td>\n",
       "      <td>35.659195</td>\n",
       "    </tr>\n",
       "    <tr>\n",
       "      <th>Sierra Leone</th>\n",
       "      <td>1986</td>\n",
       "      <td>35.701390</td>\n",
       "    </tr>\n",
       "  </tbody>\n",
       "</table>\n",
       "</div>"
      ],
      "text/plain": [
       "              Year  LifeExpectancy\n",
       "CountryName                       \n",
       "Rwanda        1989       35.659195\n",
       "Sierra Leone  1986       35.701390"
      ]
     },
     "execution_count": 91,
     "metadata": {},
     "output_type": "execute_result"
    }
   ],
   "source": [
    "# Shows the lowest value for each country that appears in our filter\n",
    "question_df.groupby(\"CountryName\").min()"
   ]
  },
  {
   "cell_type": "code",
   "execution_count": 53,
   "metadata": {},
   "outputs": [
    {
     "data": {
      "image/png": "[encoded data removed]",
      "text/plain": [
       "<Figure size 432x288 with 1 Axes>"
      ]
     },
     "metadata": {
      "needs_background": "light"
     },
     "output_type": "display_data"
    },
    {
     "name": "stdout",
     "output_type": "stream",
     "text": [
      "\n"
     ]
    }
   ],
   "source": [
    "country_life_expectancy(\"Sierra Leone\")"
   ]
  },
  {
   "cell_type": "markdown",
   "metadata": {},
   "source": [
    "#### Question: Which countries were so anomalous? And why?\n",
    "- life expectancy of <30 around the year 1975\n",
    "    - [x] **Cambodia**: 1974 - 1980\n",
    "    \n",
    "      *Cambodia experienced a genocide from 1975 to 1979*\n",
    "- life expectancy of ~30 around the year 1993\n",
    "    - [x] **Rwanda**: 1991 - 1994\n",
    "    \n",
    "      *Rwanda had a civil war starting in 1990, resulting in a genocide in 1994*\n",
    "- life expectancy of ~30 around 1978\n",
    "    - [x] **Timor-Leste**: 1976 - 1980\n",
    "    \n",
    "      *In late 1975, it was invaded and occupied by Indonesia's military in a highly violent, decades long conflict*\n",
    "- life expectancy of ~37 in 1995\n",
    "    - [x] **Sierra Leone**: 1986 - 2005\n",
    "    \n",
    "      *In 1991, a brutal civil war began*"
   ]
  },
  {
   "cell_type": "markdown",
   "metadata": {},
   "source": [
    "\n",
    "\n",
    "---\n",
    "\n",
    "### Question reminder: Has life expectancy improved over time?\n",
    "\n",
    "Our previous graph was too cluttered and made it difficult to see what was going on. To simplify, we will look at three slices of time from the start, middle and end of our data, 25 years apart."
   ]
  },
  {
   "cell_type": "code",
   "execution_count": 55,
   "metadata": {},
   "outputs": [],
   "source": [
    "data_1960 = selected_data_df[selected_data_df[\"Year\"] == 1960]\n",
    "data_1985 = selected_data_df[selected_data_df[\"Year\"] == 1985]\n",
    "data_2010 = selected_data_df[selected_data_df[\"Year\"] == 2010]"
   ]
  },
  {
   "cell_type": "code",
   "execution_count": 56,
   "metadata": {},
   "outputs": [
    {
     "data": {
      "image/png": "[encoded data removed]",
      "text/plain": [
       "<Figure size 720x504 with 1 Axes>"
      ]
     },
     "metadata": {
      "needs_background": "light"
     },
     "output_type": "display_data"
    }
   ],
   "source": [
    "# Concatenate the three arrays\n",
    "graph_data = [data_1960[\"LifeExpectancy\"].dropna(), data_1985[\"LifeExpectancy\"].dropna(), data_2010[\"LifeExpectancy\"].dropna()]\n",
    "\n",
    "# Make a box plot\n",
    "fig, axes = plt.subplots(nrows=1, ncols=1, figsize=(10, 7))\n",
    "bplot = axes.boxplot(graph_data, vert=True, patch_artist=True)   # colour\n",
    "colors = ['mistyrose', 'moccasin', 'palegreen']\n",
    "\n",
    "for patch, color in zip(bplot['boxes'], colors):\n",
    "    patch.set_facecolor(color)\n",
    "\n",
    "axes.yaxis.grid(True)\n",
    "axes.set_xticks([y for y in range(len(graph_data))], )\n",
    "axes.set_xlabel('Year',fontsize=15)\n",
    "axes.set_ylabel('Life Expectancy',fontsize=15)\n",
    "    \n",
    "# Xtick labels\n",
    "plt.setp(axes, xticks=[y for y in range(len(graph_data))]+[3], xticklabels=[\"0\", '1960', '1985', '2010'])\n",
    "\n",
    "plt.title('Global life Expectancy over time')\n",
    "plt.show()\n",
    "# fig.savefig(\"vis_boxplot.png\")"
   ]
  },
  {
   "cell_type": "markdown",
   "metadata": {},
   "source": [
    "**Summary**: It is clear that life expectancy is generally increasing. The median very clearly increases over time and the spread of the data is decreasing. We have calculated the correlation (0.43) which shows that there is a moderate positive correlation, indicating that life expectancy is indeed improving over time.\n",
    "\n",
    "---\n",
    "\n",
    "---"
   ]
  },
  {
   "cell_type": "markdown",
   "metadata": {},
   "source": [
    "\n",
    "\n",
    "# Misc outliers\n",
    "\n",
    "I didn't have the energy to do everything in depth so here are some bonus facts!\n",
    "\n",
    "##### Which country has the highest GDP?"
   ]
  },
  {
   "cell_type": "code",
   "execution_count": 57,
   "metadata": {},
   "outputs": [
    {
     "data": {
      "text/html": [
       "<div>\n",
       "<style scoped>\n",
       "    .dataframe tbody tr th:only-of-type {\n",
       "        vertical-align: middle;\n",
       "    }\n",
       "\n",
       "    .dataframe tbody tr th {\n",
       "        vertical-align: top;\n",
       "    }\n",
       "\n",
       "    .dataframe thead th {\n",
       "        text-align: right;\n",
       "    }\n",
       "</style>\n",
       "<table border=\"1\" class=\"dataframe\">\n",
       "  <thead>\n",
       "    <tr style=\"text-align: right;\">\n",
       "      <th></th>\n",
       "      <th>GDP</th>\n",
       "    </tr>\n",
       "    <tr>\n",
       "      <th>CountryName</th>\n",
       "      <th></th>\n",
       "    </tr>\n",
       "  </thead>\n",
       "  <tbody>\n",
       "    <tr>\n",
       "      <th>Bermuda</th>\n",
       "      <td>93605.748165</td>\n",
       "    </tr>\n",
       "    <tr>\n",
       "      <th>Channel Islands</th>\n",
       "      <td>73568.234828</td>\n",
       "    </tr>\n",
       "    <tr>\n",
       "      <th>Iceland</th>\n",
       "      <td>68344.560158</td>\n",
       "    </tr>\n",
       "    <tr>\n",
       "      <th>Liechtenstein</th>\n",
       "      <td>157092.969387</td>\n",
       "    </tr>\n",
       "    <tr>\n",
       "      <th>Luxembourg</th>\n",
       "      <td>116664.262488</td>\n",
       "    </tr>\n",
       "    <tr>\n",
       "      <th>Macao SAR, China</th>\n",
       "      <td>96038.050724</td>\n",
       "    </tr>\n",
       "    <tr>\n",
       "      <th>Monaco</th>\n",
       "      <td>193648.132213</td>\n",
       "    </tr>\n",
       "    <tr>\n",
       "      <th>Norway</th>\n",
       "      <td>102832.258690</td>\n",
       "    </tr>\n",
       "    <tr>\n",
       "      <th>Qatar</th>\n",
       "      <td>96732.402545</td>\n",
       "    </tr>\n",
       "    <tr>\n",
       "      <th>Switzerland</th>\n",
       "      <td>88002.609570</td>\n",
       "    </tr>\n",
       "  </tbody>\n",
       "</table>\n",
       "</div>"
      ],
      "text/plain": [
       "                            GDP\n",
       "CountryName                    \n",
       "Bermuda            93605.748165\n",
       "Channel Islands    73568.234828\n",
       "Iceland            68344.560158\n",
       "Liechtenstein     157092.969387\n",
       "Luxembourg        116664.262488\n",
       "Macao SAR, China   96038.050724\n",
       "Monaco            193648.132213\n",
       "Norway            102832.258690\n",
       "Qatar              96732.402545\n",
       "Switzerland        88002.609570"
      ]
     },
     "execution_count": 57,
     "metadata": {},
     "output_type": "execute_result"
    }
   ],
   "source": [
    "GDP_filter = selected_data_df['GDP'] > selected_data_df['GDP'].max()*0.35\n",
    "\n",
    "question_df = selected_data_df[GDP_filter]\n",
    "question_df[[\"CountryName\", \"GDP\"]].groupby(\"CountryName\").max()"
   ]
  },
  {
   "cell_type": "markdown",
   "metadata": {},
   "source": [
    "I played around with numbers and it turns out there's only 10 countries with over 35% of the max GDP for any country on the planet (Monaco - 193,648 per capita (current US$))\n",
    "\n",
    "Also there countries seem strangely familiar. Are they tax havens by any chance?"
   ]
  },
  {
   "cell_type": "markdown",
   "metadata": {},
   "source": [
    "---\n",
    "##### Which countries are most cropland as a % of total land area?"
   ]
  },
  {
   "cell_type": "code",
   "execution_count": 94,
   "metadata": {},
   "outputs": [
    {
     "data": {
      "text/html": [
       "<div>\n",
       "<style scoped>\n",
       "    .dataframe tbody tr th:only-of-type {\n",
       "        vertical-align: middle;\n",
       "    }\n",
       "\n",
       "    .dataframe tbody tr th {\n",
       "        vertical-align: top;\n",
       "    }\n",
       "\n",
       "    .dataframe thead th {\n",
       "        text-align: right;\n",
       "    }\n",
       "</style>\n",
       "<table border=\"1\" class=\"dataframe\">\n",
       "  <thead>\n",
       "    <tr style=\"text-align: right;\">\n",
       "      <th></th>\n",
       "      <th>Value</th>\n",
       "    </tr>\n",
       "    <tr>\n",
       "      <th>CountryName</th>\n",
       "      <th></th>\n",
       "    </tr>\n",
       "  </thead>\n",
       "  <tbody>\n",
       "    <tr>\n",
       "      <th>Kiribati</th>\n",
       "      <td>50.617284</td>\n",
       "    </tr>\n",
       "    <tr>\n",
       "      <th>Sao Tome and Principe</th>\n",
       "      <td>46.875000</td>\n",
       "    </tr>\n",
       "    <tr>\n",
       "      <th>Tuvalu</th>\n",
       "      <td>66.666667</td>\n",
       "    </tr>\n",
       "  </tbody>\n",
       "</table>\n",
       "</div>"
      ],
      "text/plain": [
       "                           Value\n",
       "CountryName                     \n",
       "Kiribati               50.617284\n",
       "Sao Tome and Principe  46.875000\n",
       "Tuvalu                 66.666667"
      ]
     },
     "execution_count": 94,
     "metadata": {},
     "output_type": "execute_result"
    }
   ],
   "source": [
    "crop_indicator = wanted_indicators[4] # Cropland\n",
    "crop_filter = data['IndicatorName'].str.contains(crop_indicator)\n",
    "crop_filter_percent = data['Value'] > 45\n",
    "crop_filtered_df = data[crop_filter & crop_filter_percent]\n",
    "crop_filtered_df[[\"CountryName\", \"Value\"]].groupby(\"CountryName\").max()"
   ]
  },
  {
   "cell_type": "markdown",
   "metadata": {},
   "source": [
    "That's a lot of cropland\n",
    "\n",
    "---\n",
    "#### Where is the highest life expectancy? "
   ]
  },
  {
   "cell_type": "code",
   "execution_count": 59,
   "metadata": {},
   "outputs": [
    {
     "data": {
      "text/html": [
       "<div>\n",
       "<style scoped>\n",
       "    .dataframe tbody tr th:only-of-type {\n",
       "        vertical-align: middle;\n",
       "    }\n",
       "\n",
       "    .dataframe tbody tr th {\n",
       "        vertical-align: top;\n",
       "    }\n",
       "\n",
       "    .dataframe thead th {\n",
       "        text-align: right;\n",
       "    }\n",
       "</style>\n",
       "<table border=\"1\" class=\"dataframe\">\n",
       "  <thead>\n",
       "    <tr style=\"text-align: right;\">\n",
       "      <th></th>\n",
       "      <th>Year</th>\n",
       "      <th>GDP</th>\n",
       "      <th>LifeExpectancy</th>\n",
       "      <th>TeenBirthRate</th>\n",
       "      <th>BirthRate</th>\n",
       "      <th>PopulationDensity</th>\n",
       "    </tr>\n",
       "    <tr>\n",
       "      <th>CountryName</th>\n",
       "      <th></th>\n",
       "      <th></th>\n",
       "      <th></th>\n",
       "      <th></th>\n",
       "      <th></th>\n",
       "      <th></th>\n",
       "    </tr>\n",
       "  </thead>\n",
       "  <tbody>\n",
       "    <tr>\n",
       "      <th>Hong Kong SAR, China</th>\n",
       "      <td>2013</td>\n",
       "      <td>38364.194901</td>\n",
       "      <td>83.831707</td>\n",
       "      <td>3.515</td>\n",
       "      <td>13.5</td>\n",
       "      <td>6845.238095</td>\n",
       "    </tr>\n",
       "    <tr>\n",
       "      <th>Iceland</th>\n",
       "      <td>2013</td>\n",
       "      <td>47493.249038</td>\n",
       "      <td>83.117073</td>\n",
       "      <td>7.307</td>\n",
       "      <td>13.4</td>\n",
       "      <td>3.229566</td>\n",
       "    </tr>\n",
       "    <tr>\n",
       "      <th>Japan</th>\n",
       "      <td>2013</td>\n",
       "      <td>46679.265432</td>\n",
       "      <td>83.331951</td>\n",
       "      <td>4.534</td>\n",
       "      <td>8.2</td>\n",
       "      <td>349.905335</td>\n",
       "    </tr>\n",
       "  </tbody>\n",
       "</table>\n",
       "</div>"
      ],
      "text/plain": [
       "                      Year           GDP  LifeExpectancy  TeenBirthRate  \\\n",
       "CountryName                                                               \n",
       "Hong Kong SAR, China  2013  38364.194901       83.831707          3.515   \n",
       "Iceland               2013  47493.249038       83.117073          7.307   \n",
       "Japan                 2013  46679.265432       83.331951          4.534   \n",
       "\n",
       "                      BirthRate  PopulationDensity  \n",
       "CountryName                                         \n",
       "Hong Kong SAR, China       13.5        6845.238095  \n",
       "Iceland                    13.4           3.229566  \n",
       "Japan                       8.2         349.905335  "
      ]
     },
     "execution_count": 59,
     "metadata": {},
     "output_type": "execute_result"
    }
   ],
   "source": [
    "LE_filter = selected_data_df['LifeExpectancy'] >83\n",
    "\n",
    "question_df = selected_data_df[LE_filter]\n",
    "question_df.groupby(\"CountryName\").max()"
   ]
  },
  {
   "cell_type": "markdown",
   "metadata": {},
   "source": [
    "After the depressing tax haven countries, here's a bunch of countries where life expectancy is pretty great. It includes the UK!"
   ]
  },
  {
   "cell_type": "code",
   "execution_count": 60,
   "metadata": {},
   "outputs": [
    {
     "data": {
      "text/html": [
       "<div>\n",
       "<style scoped>\n",
       "    .dataframe tbody tr th:only-of-type {\n",
       "        vertical-align: middle;\n",
       "    }\n",
       "\n",
       "    .dataframe tbody tr th {\n",
       "        vertical-align: top;\n",
       "    }\n",
       "\n",
       "    .dataframe thead th {\n",
       "        text-align: right;\n",
       "    }\n",
       "</style>\n",
       "<table border=\"1\" class=\"dataframe\">\n",
       "  <thead>\n",
       "    <tr style=\"text-align: right;\">\n",
       "      <th></th>\n",
       "      <th>Year</th>\n",
       "      <th>GDP</th>\n",
       "      <th>LifeExpectancy</th>\n",
       "      <th>TeenBirthRate</th>\n",
       "      <th>BirthRate</th>\n",
       "      <th>PopulationDensity</th>\n",
       "    </tr>\n",
       "    <tr>\n",
       "      <th>CountryName</th>\n",
       "      <th></th>\n",
       "      <th></th>\n",
       "      <th></th>\n",
       "      <th></th>\n",
       "      <th></th>\n",
       "      <th></th>\n",
       "    </tr>\n",
       "  </thead>\n",
       "  <tbody>\n",
       "    <tr>\n",
       "      <th>Australia</th>\n",
       "      <td>2013</td>\n",
       "      <td>67646.103853</td>\n",
       "      <td>82.197561</td>\n",
       "      <td>17.100000</td>\n",
       "      <td>14.100000</td>\n",
       "      <td>3.010279</td>\n",
       "    </tr>\n",
       "    <tr>\n",
       "      <th>Austria</th>\n",
       "      <td>2013</td>\n",
       "      <td>51386.376651</td>\n",
       "      <td>80.982927</td>\n",
       "      <td>11.126000</td>\n",
       "      <td>9.400000</td>\n",
       "      <td>102.741697</td>\n",
       "    </tr>\n",
       "    <tr>\n",
       "      <th>Belgium</th>\n",
       "      <td>2013</td>\n",
       "      <td>47699.807052</td>\n",
       "      <td>80.585366</td>\n",
       "      <td>9.564000</td>\n",
       "      <td>11.900000</td>\n",
       "      <td>369.313639</td>\n",
       "    </tr>\n",
       "    <tr>\n",
       "      <th>Bermuda</th>\n",
       "      <td>2013</td>\n",
       "      <td>85973.158416</td>\n",
       "      <td>81.677805</td>\n",
       "      <td>NaN</td>\n",
       "      <td>10.400000</td>\n",
       "      <td>1300.020000</td>\n",
       "    </tr>\n",
       "    <tr>\n",
       "      <th>Canada</th>\n",
       "      <td>2013</td>\n",
       "      <td>52733.473689</td>\n",
       "      <td>81.401122</td>\n",
       "      <td>14.217200</td>\n",
       "      <td>11.300000</td>\n",
       "      <td>3.866307</td>\n",
       "    </tr>\n",
       "    <tr>\n",
       "      <th>Chile</th>\n",
       "      <td>2013</td>\n",
       "      <td>15741.711658</td>\n",
       "      <td>81.197927</td>\n",
       "      <td>50.666000</td>\n",
       "      <td>13.959000</td>\n",
       "      <td>23.638301</td>\n",
       "    </tr>\n",
       "    <tr>\n",
       "      <th>Denmark</th>\n",
       "      <td>2013</td>\n",
       "      <td>59818.631528</td>\n",
       "      <td>80.302439</td>\n",
       "      <td>4.436000</td>\n",
       "      <td>10.400000</td>\n",
       "      <td>132.334009</td>\n",
       "    </tr>\n",
       "    <tr>\n",
       "      <th>Euro area</th>\n",
       "      <td>2013</td>\n",
       "      <td>42211.208415</td>\n",
       "      <td>81.373197</td>\n",
       "      <td>10.292505</td>\n",
       "      <td>10.551362</td>\n",
       "      <td>125.953668</td>\n",
       "    </tr>\n",
       "    <tr>\n",
       "      <th>European Union</th>\n",
       "      <td>2013</td>\n",
       "      <td>36244.439552</td>\n",
       "      <td>80.384262</td>\n",
       "      <td>12.653499</td>\n",
       "      <td>10.431019</td>\n",
       "      <td>119.525897</td>\n",
       "    </tr>\n",
       "    <tr>\n",
       "      <th>Faeroe Islands</th>\n",
       "      <td>2013</td>\n",
       "      <td>54117.844378</td>\n",
       "      <td>81.300000</td>\n",
       "      <td>NaN</td>\n",
       "      <td>12.800000</td>\n",
       "      <td>34.834527</td>\n",
       "    </tr>\n",
       "    <tr>\n",
       "      <th>Finland</th>\n",
       "      <td>2013</td>\n",
       "      <td>50787.564983</td>\n",
       "      <td>80.831707</td>\n",
       "      <td>7.647000</td>\n",
       "      <td>11.100000</td>\n",
       "      <td>17.897831</td>\n",
       "    </tr>\n",
       "    <tr>\n",
       "      <th>France</th>\n",
       "      <td>2013</td>\n",
       "      <td>45413.065712</td>\n",
       "      <td>82.114634</td>\n",
       "      <td>10.461800</td>\n",
       "      <td>13.100000</td>\n",
       "      <td>120.399334</td>\n",
       "    </tr>\n",
       "    <tr>\n",
       "      <th>Germany</th>\n",
       "      <td>2013</td>\n",
       "      <td>46441.677130</td>\n",
       "      <td>81.043902</td>\n",
       "      <td>8.375000</td>\n",
       "      <td>8.500000</td>\n",
       "      <td>234.673150</td>\n",
       "    </tr>\n",
       "    <tr>\n",
       "      <th>Greece</th>\n",
       "      <td>2013</td>\n",
       "      <td>29498.323482</td>\n",
       "      <td>80.731707</td>\n",
       "      <td>10.413400</td>\n",
       "      <td>10.500000</td>\n",
       "      <td>86.788867</td>\n",
       "    </tr>\n",
       "    <tr>\n",
       "      <th>High income: OECD</th>\n",
       "      <td>2013</td>\n",
       "      <td>43197.525021</td>\n",
       "      <td>80.650435</td>\n",
       "      <td>18.965274</td>\n",
       "      <td>11.317606</td>\n",
       "      <td>33.654796</td>\n",
       "    </tr>\n",
       "    <tr>\n",
       "      <th>Hong Kong SAR, China</th>\n",
       "      <td>2013</td>\n",
       "      <td>38364.194901</td>\n",
       "      <td>83.831707</td>\n",
       "      <td>5.001000</td>\n",
       "      <td>13.500000</td>\n",
       "      <td>6845.238095</td>\n",
       "    </tr>\n",
       "    <tr>\n",
       "      <th>Iceland</th>\n",
       "      <td>2013</td>\n",
       "      <td>68344.560158</td>\n",
       "      <td>83.117073</td>\n",
       "      <td>18.503000</td>\n",
       "      <td>15.800000</td>\n",
       "      <td>3.229566</td>\n",
       "    </tr>\n",
       "    <tr>\n",
       "      <th>Ireland</th>\n",
       "      <td>2013</td>\n",
       "      <td>61189.732485</td>\n",
       "      <td>81.043902</td>\n",
       "      <td>15.432400</td>\n",
       "      <td>16.700000</td>\n",
       "      <td>66.748352</td>\n",
       "    </tr>\n",
       "    <tr>\n",
       "      <th>Israel</th>\n",
       "      <td>2013</td>\n",
       "      <td>36281.199896</td>\n",
       "      <td>82.056098</td>\n",
       "      <td>15.215200</td>\n",
       "      <td>21.800000</td>\n",
       "      <td>372.435305</td>\n",
       "    </tr>\n",
       "    <tr>\n",
       "      <th>Italy</th>\n",
       "      <td>2013</td>\n",
       "      <td>40659.671217</td>\n",
       "      <td>82.290244</td>\n",
       "      <td>6.998000</td>\n",
       "      <td>9.800000</td>\n",
       "      <td>204.779860</td>\n",
       "    </tr>\n",
       "    <tr>\n",
       "      <th>Japan</th>\n",
       "      <td>2013</td>\n",
       "      <td>46679.265432</td>\n",
       "      <td>83.331951</td>\n",
       "      <td>5.799000</td>\n",
       "      <td>9.600000</td>\n",
       "      <td>351.338820</td>\n",
       "    </tr>\n",
       "    <tr>\n",
       "      <th>Korea, Rep.</th>\n",
       "      <td>2013</td>\n",
       "      <td>25997.881055</td>\n",
       "      <td>81.459756</td>\n",
       "      <td>1.975000</td>\n",
       "      <td>9.600000</td>\n",
       "      <td>515.253206</td>\n",
       "    </tr>\n",
       "    <tr>\n",
       "      <th>Lebanon</th>\n",
       "      <td>2013</td>\n",
       "      <td>9870.486278</td>\n",
       "      <td>80.128878</td>\n",
       "      <td>13.126200</td>\n",
       "      <td>13.426000</td>\n",
       "      <td>439.241251</td>\n",
       "    </tr>\n",
       "    <tr>\n",
       "      <th>Liechtenstein</th>\n",
       "      <td>2012</td>\n",
       "      <td>157092.969387</td>\n",
       "      <td>82.682927</td>\n",
       "      <td>NaN</td>\n",
       "      <td>11.400000</td>\n",
       "      <td>229.943750</td>\n",
       "    </tr>\n",
       "    <tr>\n",
       "      <th>Luxembourg</th>\n",
       "      <td>2013</td>\n",
       "      <td>113726.638979</td>\n",
       "      <td>81.797561</td>\n",
       "      <td>9.099200</td>\n",
       "      <td>11.600000</td>\n",
       "      <td>209.791506</td>\n",
       "    </tr>\n",
       "    <tr>\n",
       "      <th>Macao SAR, China</th>\n",
       "      <td>2013</td>\n",
       "      <td>90331.819132</td>\n",
       "      <td>80.339146</td>\n",
       "      <td>3.868000</td>\n",
       "      <td>11.256000</td>\n",
       "      <td>18747.722772</td>\n",
       "    </tr>\n",
       "    <tr>\n",
       "      <th>Malta</th>\n",
       "      <td>2013</td>\n",
       "      <td>22776.194689</td>\n",
       "      <td>81.397561</td>\n",
       "      <td>18.128200</td>\n",
       "      <td>10.000000</td>\n",
       "      <td>1323.043750</td>\n",
       "    </tr>\n",
       "    <tr>\n",
       "      <th>Netherlands</th>\n",
       "      <td>2013</td>\n",
       "      <td>56928.820476</td>\n",
       "      <td>81.204878</td>\n",
       "      <td>5.294000</td>\n",
       "      <td>11.200000</td>\n",
       "      <td>499.092129</td>\n",
       "    </tr>\n",
       "    <tr>\n",
       "      <th>New Zealand</th>\n",
       "      <td>2011</td>\n",
       "      <td>37896.853967</td>\n",
       "      <td>80.904878</td>\n",
       "      <td>30.101000</td>\n",
       "      <td>15.140000</td>\n",
       "      <td>16.649577</td>\n",
       "    </tr>\n",
       "    <tr>\n",
       "      <th>Norway</th>\n",
       "      <td>2013</td>\n",
       "      <td>102832.258690</td>\n",
       "      <td>81.451220</td>\n",
       "      <td>9.338600</td>\n",
       "      <td>12.800000</td>\n",
       "      <td>13.907440</td>\n",
       "    </tr>\n",
       "    <tr>\n",
       "      <th>Portugal</th>\n",
       "      <td>2013</td>\n",
       "      <td>23194.740957</td>\n",
       "      <td>80.470732</td>\n",
       "      <td>12.808000</td>\n",
       "      <td>9.200000</td>\n",
       "      <td>115.269789</td>\n",
       "    </tr>\n",
       "    <tr>\n",
       "      <th>San Marino</th>\n",
       "      <td>2008</td>\n",
       "      <td>62993.367224</td>\n",
       "      <td>82.831707</td>\n",
       "      <td>NaN</td>\n",
       "      <td>11.000000</td>\n",
       "      <td>502.666667</td>\n",
       "    </tr>\n",
       "    <tr>\n",
       "      <th>Singapore</th>\n",
       "      <td>2013</td>\n",
       "      <td>55979.757049</td>\n",
       "      <td>82.346341</td>\n",
       "      <td>6.277000</td>\n",
       "      <td>10.300000</td>\n",
       "      <td>7636.775106</td>\n",
       "    </tr>\n",
       "    <tr>\n",
       "      <th>Slovenia</th>\n",
       "      <td>2013</td>\n",
       "      <td>23144.122520</td>\n",
       "      <td>80.278049</td>\n",
       "      <td>4.496000</td>\n",
       "      <td>10.700000</td>\n",
       "      <td>102.281678</td>\n",
       "    </tr>\n",
       "    <tr>\n",
       "      <th>Spain</th>\n",
       "      <td>2013</td>\n",
       "      <td>35578.736190</td>\n",
       "      <td>82.475610</td>\n",
       "      <td>12.183000</td>\n",
       "      <td>11.300000</td>\n",
       "      <td>93.507836</td>\n",
       "    </tr>\n",
       "    <tr>\n",
       "      <th>Sweden</th>\n",
       "      <td>2013</td>\n",
       "      <td>60283.245223</td>\n",
       "      <td>81.802439</td>\n",
       "      <td>6.315200</td>\n",
       "      <td>12.300000</td>\n",
       "      <td>23.568466</td>\n",
       "    </tr>\n",
       "    <tr>\n",
       "      <th>Switzerland</th>\n",
       "      <td>2013</td>\n",
       "      <td>88002.609570</td>\n",
       "      <td>82.748780</td>\n",
       "      <td>5.411000</td>\n",
       "      <td>10.300000</td>\n",
       "      <td>204.710649</td>\n",
       "    </tr>\n",
       "    <tr>\n",
       "      <th>United Kingdom</th>\n",
       "      <td>2013</td>\n",
       "      <td>42309.039922</td>\n",
       "      <td>80.956098</td>\n",
       "      <td>22.616200</td>\n",
       "      <td>12.900000</td>\n",
       "      <td>264.980693</td>\n",
       "    </tr>\n",
       "  </tbody>\n",
       "</table>\n",
       "</div>"
      ],
      "text/plain": [
       "                      Year            GDP  LifeExpectancy  TeenBirthRate  \\\n",
       "CountryName                                                                \n",
       "Australia             2013   67646.103853       82.197561      17.100000   \n",
       "Austria               2013   51386.376651       80.982927      11.126000   \n",
       "Belgium               2013   47699.807052       80.585366       9.564000   \n",
       "Bermuda               2013   85973.158416       81.677805            NaN   \n",
       "Canada                2013   52733.473689       81.401122      14.217200   \n",
       "Chile                 2013   15741.711658       81.197927      50.666000   \n",
       "Denmark               2013   59818.631528       80.302439       4.436000   \n",
       "Euro area             2013   42211.208415       81.373197      10.292505   \n",
       "European Union        2013   36244.439552       80.384262      12.653499   \n",
       "Faeroe Islands        2013   54117.844378       81.300000            NaN   \n",
       "Finland               2013   50787.564983       80.831707       7.647000   \n",
       "France                2013   45413.065712       82.114634      10.461800   \n",
       "Germany               2013   46441.677130       81.043902       8.375000   \n",
       "Greece                2013   29498.323482       80.731707      10.413400   \n",
       "High income: OECD     2013   43197.525021       80.650435      18.965274   \n",
       "Hong Kong SAR, China  2013   38364.194901       83.831707       5.001000   \n",
       "Iceland               2013   68344.560158       83.117073      18.503000   \n",
       "Ireland               2013   61189.732485       81.043902      15.432400   \n",
       "Israel                2013   36281.199896       82.056098      15.215200   \n",
       "Italy                 2013   40659.671217       82.290244       6.998000   \n",
       "Japan                 2013   46679.265432       83.331951       5.799000   \n",
       "Korea, Rep.           2013   25997.881055       81.459756       1.975000   \n",
       "Lebanon               2013    9870.486278       80.128878      13.126200   \n",
       "Liechtenstein         2012  157092.969387       82.682927            NaN   \n",
       "Luxembourg            2013  113726.638979       81.797561       9.099200   \n",
       "Macao SAR, China      2013   90331.819132       80.339146       3.868000   \n",
       "Malta                 2013   22776.194689       81.397561      18.128200   \n",
       "Netherlands           2013   56928.820476       81.204878       5.294000   \n",
       "New Zealand           2011   37896.853967       80.904878      30.101000   \n",
       "Norway                2013  102832.258690       81.451220       9.338600   \n",
       "Portugal              2013   23194.740957       80.470732      12.808000   \n",
       "San Marino            2008   62993.367224       82.831707            NaN   \n",
       "Singapore             2013   55979.757049       82.346341       6.277000   \n",
       "Slovenia              2013   23144.122520       80.278049       4.496000   \n",
       "Spain                 2013   35578.736190       82.475610      12.183000   \n",
       "Sweden                2013   60283.245223       81.802439       6.315200   \n",
       "Switzerland           2013   88002.609570       82.748780       5.411000   \n",
       "United Kingdom        2013   42309.039922       80.956098      22.616200   \n",
       "\n",
       "                      BirthRate  PopulationDensity  \n",
       "CountryName                                         \n",
       "Australia             14.100000           3.010279  \n",
       "Austria                9.400000         102.741697  \n",
       "Belgium               11.900000         369.313639  \n",
       "Bermuda               10.400000        1300.020000  \n",
       "Canada                11.300000           3.866307  \n",
       "Chile                 13.959000          23.638301  \n",
       "Denmark               10.400000         132.334009  \n",
       "Euro area             10.551362         125.953668  \n",
       "European Union        10.431019         119.525897  \n",
       "Faeroe Islands        12.800000          34.834527  \n",
       "Finland               11.100000          17.897831  \n",
       "France                13.100000         120.399334  \n",
       "Germany                8.500000         234.673150  \n",
       "Greece                10.500000          86.788867  \n",
       "High income: OECD     11.317606          33.654796  \n",
       "Hong Kong SAR, China  13.500000        6845.238095  \n",
       "Iceland               15.800000           3.229566  \n",
       "Ireland               16.700000          66.748352  \n",
       "Israel                21.800000         372.435305  \n",
       "Italy                  9.800000         204.779860  \n",
       "Japan                  9.600000         351.338820  \n",
       "Korea, Rep.            9.600000         515.253206  \n",
       "Lebanon               13.426000         439.241251  \n",
       "Liechtenstein         11.400000         229.943750  \n",
       "Luxembourg            11.600000         209.791506  \n",
       "Macao SAR, China      11.256000       18747.722772  \n",
       "Malta                 10.000000        1323.043750  \n",
       "Netherlands           11.200000         499.092129  \n",
       "New Zealand           15.140000          16.649577  \n",
       "Norway                12.800000          13.907440  \n",
       "Portugal               9.200000         115.269789  \n",
       "San Marino            11.000000         502.666667  \n",
       "Singapore             10.300000        7636.775106  \n",
       "Slovenia              10.700000         102.281678  \n",
       "Spain                 11.300000          93.507836  \n",
       "Sweden                12.300000          23.568466  \n",
       "Switzerland           10.300000         204.710649  \n",
       "United Kingdom        12.900000         264.980693  "
      ]
     },
     "execution_count": 60,
     "metadata": {},
     "output_type": "execute_result"
    }
   ],
   "source": [
    "LE_filter = selected_data_df['LifeExpectancy'] >80\n",
    "\n",
    "question_df = selected_data_df[LE_filter]\n",
    "question_df.groupby(\"CountryName\").max()"
   ]
  },
  {
   "cell_type": "markdown",
   "metadata": {},
   "source": [
    "# THE END"
   ]
  },
  {
   "cell_type": "code",
   "execution_count": null,
   "metadata": {},
   "outputs": [],
   "source": []
  }
 ],
 "metadata": {
  "kernelspec": {
   "display_name": "Python 3",
   "language": "python",
   "name": "python3"
  },
  "language_info": {
   "codemirror_mode": {
    "name": "ipython",
    "version": 3
   },
   "file_extension": ".py",
   "mimetype": "text/x-python",
   "name": "python",
   "nbconvert_exporter": "python",
   "pygments_lexer": "ipython3",
   "version": "3.8.3"
  }
 },
 "nbformat": 4,
 "nbformat_minor": 4
}
